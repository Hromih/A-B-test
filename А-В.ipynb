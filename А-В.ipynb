{
 "cells": [
  {
   "cell_type": "markdown",
   "metadata": {},
   "source": [
    "# Проект: Анализ гипотез для увеличения выручки интернет-магазина."
   ]
  },
  {
   "cell_type": "markdown",
   "metadata": {},
   "source": [
    "В данном проекте нам предстоит выступить в качестве аналитика крупного интернет-магазина, проанализировать гипотезы, составленные с отделом маркетинга для увеличения выручки, приоретизировать их, запустить A/B-тест и проанализировать результаты. "
   ]
  },
  {
   "cell_type": "markdown",
   "metadata": {},
   "source": [
    "## Приоретизация гипотез"
   ]
  },
  {
   "cell_type": "markdown",
   "metadata": {},
   "source": [
    "### Подключение библиотек"
   ]
  },
  {
   "cell_type": "code",
   "execution_count": 1,
   "metadata": {},
   "outputs": [],
   "source": [
    "import pandas as pd\n",
    "import scipy.stats as stats\n",
    "import datetime as dt\n",
    "import numpy as np\n",
    "import matplotlib.pyplot as plt\n",
    "import seaborn as sns\n",
    "from scipy import stats as st"
   ]
  },
  {
   "cell_type": "markdown",
   "metadata": {},
   "source": [
    "### Загрузка данных"
   ]
  },
  {
   "cell_type": "code",
   "execution_count": 2,
   "metadata": {},
   "outputs": [
    {
     "data": {
      "text/html": [
       "<div>\n",
       "<style scoped>\n",
       "    .dataframe tbody tr th:only-of-type {\n",
       "        vertical-align: middle;\n",
       "    }\n",
       "\n",
       "    .dataframe tbody tr th {\n",
       "        vertical-align: top;\n",
       "    }\n",
       "\n",
       "    .dataframe thead th {\n",
       "        text-align: right;\n",
       "    }\n",
       "</style>\n",
       "<table border=\"1\" class=\"dataframe\">\n",
       "  <thead>\n",
       "    <tr style=\"text-align: right;\">\n",
       "      <th></th>\n",
       "      <th>Hypothesis</th>\n",
       "      <th>Reach</th>\n",
       "      <th>Impact</th>\n",
       "      <th>Confidence</th>\n",
       "      <th>Efforts</th>\n",
       "    </tr>\n",
       "  </thead>\n",
       "  <tbody>\n",
       "    <tr>\n",
       "      <th>0</th>\n",
       "      <td>Добавить два новых канала привлечения трафика,...</td>\n",
       "      <td>3</td>\n",
       "      <td>10</td>\n",
       "      <td>8</td>\n",
       "      <td>6</td>\n",
       "    </tr>\n",
       "    <tr>\n",
       "      <th>1</th>\n",
       "      <td>Запустить собственную службу доставки, что сок...</td>\n",
       "      <td>2</td>\n",
       "      <td>5</td>\n",
       "      <td>4</td>\n",
       "      <td>10</td>\n",
       "    </tr>\n",
       "    <tr>\n",
       "      <th>2</th>\n",
       "      <td>Добавить блоки рекомендаций товаров на сайт ин...</td>\n",
       "      <td>8</td>\n",
       "      <td>3</td>\n",
       "      <td>7</td>\n",
       "      <td>3</td>\n",
       "    </tr>\n",
       "    <tr>\n",
       "      <th>3</th>\n",
       "      <td>Изменить структура категорий, что увеличит кон...</td>\n",
       "      <td>8</td>\n",
       "      <td>3</td>\n",
       "      <td>3</td>\n",
       "      <td>8</td>\n",
       "    </tr>\n",
       "    <tr>\n",
       "      <th>4</th>\n",
       "      <td>Изменить цвет фона главной страницы, чтобы уве...</td>\n",
       "      <td>3</td>\n",
       "      <td>1</td>\n",
       "      <td>1</td>\n",
       "      <td>1</td>\n",
       "    </tr>\n",
       "    <tr>\n",
       "      <th>5</th>\n",
       "      <td>Добавить страницу отзывов клиентов о магазине,...</td>\n",
       "      <td>3</td>\n",
       "      <td>2</td>\n",
       "      <td>2</td>\n",
       "      <td>3</td>\n",
       "    </tr>\n",
       "    <tr>\n",
       "      <th>6</th>\n",
       "      <td>Показать на главной странице баннеры с актуаль...</td>\n",
       "      <td>5</td>\n",
       "      <td>3</td>\n",
       "      <td>8</td>\n",
       "      <td>3</td>\n",
       "    </tr>\n",
       "    <tr>\n",
       "      <th>7</th>\n",
       "      <td>Добавить форму подписки на все основные страни...</td>\n",
       "      <td>10</td>\n",
       "      <td>7</td>\n",
       "      <td>8</td>\n",
       "      <td>5</td>\n",
       "    </tr>\n",
       "    <tr>\n",
       "      <th>8</th>\n",
       "      <td>Запустить акцию, дающую скидку на товар в день...</td>\n",
       "      <td>1</td>\n",
       "      <td>9</td>\n",
       "      <td>9</td>\n",
       "      <td>5</td>\n",
       "    </tr>\n",
       "  </tbody>\n",
       "</table>\n",
       "</div>"
      ],
      "text/plain": [
       "                                          Hypothesis  Reach  Impact  \\\n",
       "0  Добавить два новых канала привлечения трафика,...      3      10   \n",
       "1  Запустить собственную службу доставки, что сок...      2       5   \n",
       "2  Добавить блоки рекомендаций товаров на сайт ин...      8       3   \n",
       "3  Изменить структура категорий, что увеличит кон...      8       3   \n",
       "4  Изменить цвет фона главной страницы, чтобы уве...      3       1   \n",
       "5  Добавить страницу отзывов клиентов о магазине,...      3       2   \n",
       "6  Показать на главной странице баннеры с актуаль...      5       3   \n",
       "7  Добавить форму подписки на все основные страни...     10       7   \n",
       "8  Запустить акцию, дающую скидку на товар в день...      1       9   \n",
       "\n",
       "   Confidence  Efforts  \n",
       "0           8        6  \n",
       "1           4       10  \n",
       "2           7        3  \n",
       "3           3        8  \n",
       "4           1        1  \n",
       "5           2        3  \n",
       "6           8        3  \n",
       "7           8        5  \n",
       "8           9        5  "
      ]
     },
     "execution_count": 2,
     "metadata": {},
     "output_type": "execute_result"
    }
   ],
   "source": [
    "hypothesis = pd.read_csv('/datasets/hypothesis.csv')\n",
    "orders = pd.read_csv('/datasets/orders.csv')\n",
    "visitors = pd.read_csv('/datasets/visitors.csv')\n",
    "hypothesis"
   ]
  },
  {
   "cell_type": "code",
   "execution_count": 3,
   "metadata": {},
   "outputs": [
    {
     "data": {
      "text/html": [
       "<div>\n",
       "<style scoped>\n",
       "    .dataframe tbody tr th:only-of-type {\n",
       "        vertical-align: middle;\n",
       "    }\n",
       "\n",
       "    .dataframe tbody tr th {\n",
       "        vertical-align: top;\n",
       "    }\n",
       "\n",
       "    .dataframe thead th {\n",
       "        text-align: right;\n",
       "    }\n",
       "</style>\n",
       "<table border=\"1\" class=\"dataframe\">\n",
       "  <thead>\n",
       "    <tr style=\"text-align: right;\">\n",
       "      <th></th>\n",
       "      <th>hypothesis</th>\n",
       "      <th>reach</th>\n",
       "      <th>impact</th>\n",
       "      <th>confidence</th>\n",
       "      <th>efforts</th>\n",
       "    </tr>\n",
       "  </thead>\n",
       "  <tbody>\n",
       "    <tr>\n",
       "      <th>0</th>\n",
       "      <td>Добавить два новых канала привлечения трафика,...</td>\n",
       "      <td>3</td>\n",
       "      <td>10</td>\n",
       "      <td>8</td>\n",
       "      <td>6</td>\n",
       "    </tr>\n",
       "    <tr>\n",
       "      <th>1</th>\n",
       "      <td>Запустить собственную службу доставки, что сок...</td>\n",
       "      <td>2</td>\n",
       "      <td>5</td>\n",
       "      <td>4</td>\n",
       "      <td>10</td>\n",
       "    </tr>\n",
       "    <tr>\n",
       "      <th>2</th>\n",
       "      <td>Добавить блоки рекомендаций товаров на сайт ин...</td>\n",
       "      <td>8</td>\n",
       "      <td>3</td>\n",
       "      <td>7</td>\n",
       "      <td>3</td>\n",
       "    </tr>\n",
       "    <tr>\n",
       "      <th>3</th>\n",
       "      <td>Изменить структура категорий, что увеличит кон...</td>\n",
       "      <td>8</td>\n",
       "      <td>3</td>\n",
       "      <td>3</td>\n",
       "      <td>8</td>\n",
       "    </tr>\n",
       "    <tr>\n",
       "      <th>4</th>\n",
       "      <td>Изменить цвет фона главной страницы, чтобы уве...</td>\n",
       "      <td>3</td>\n",
       "      <td>1</td>\n",
       "      <td>1</td>\n",
       "      <td>1</td>\n",
       "    </tr>\n",
       "    <tr>\n",
       "      <th>5</th>\n",
       "      <td>Добавить страницу отзывов клиентов о магазине,...</td>\n",
       "      <td>3</td>\n",
       "      <td>2</td>\n",
       "      <td>2</td>\n",
       "      <td>3</td>\n",
       "    </tr>\n",
       "    <tr>\n",
       "      <th>6</th>\n",
       "      <td>Показать на главной странице баннеры с актуаль...</td>\n",
       "      <td>5</td>\n",
       "      <td>3</td>\n",
       "      <td>8</td>\n",
       "      <td>3</td>\n",
       "    </tr>\n",
       "    <tr>\n",
       "      <th>7</th>\n",
       "      <td>Добавить форму подписки на все основные страни...</td>\n",
       "      <td>10</td>\n",
       "      <td>7</td>\n",
       "      <td>8</td>\n",
       "      <td>5</td>\n",
       "    </tr>\n",
       "    <tr>\n",
       "      <th>8</th>\n",
       "      <td>Запустить акцию, дающую скидку на товар в день...</td>\n",
       "      <td>1</td>\n",
       "      <td>9</td>\n",
       "      <td>9</td>\n",
       "      <td>5</td>\n",
       "    </tr>\n",
       "  </tbody>\n",
       "</table>\n",
       "</div>"
      ],
      "text/plain": [
       "                                          hypothesis  reach  impact  \\\n",
       "0  Добавить два новых канала привлечения трафика,...      3      10   \n",
       "1  Запустить собственную службу доставки, что сок...      2       5   \n",
       "2  Добавить блоки рекомендаций товаров на сайт ин...      8       3   \n",
       "3  Изменить структура категорий, что увеличит кон...      8       3   \n",
       "4  Изменить цвет фона главной страницы, чтобы уве...      3       1   \n",
       "5  Добавить страницу отзывов клиентов о магазине,...      3       2   \n",
       "6  Показать на главной странице баннеры с актуаль...      5       3   \n",
       "7  Добавить форму подписки на все основные страни...     10       7   \n",
       "8  Запустить акцию, дающую скидку на товар в день...      1       9   \n",
       "\n",
       "   confidence  efforts  \n",
       "0           8        6  \n",
       "1           4       10  \n",
       "2           7        3  \n",
       "3           3        8  \n",
       "4           1        1  \n",
       "5           2        3  \n",
       "6           8        3  \n",
       "7           8        5  \n",
       "8           9        5  "
      ]
     },
     "execution_count": 3,
     "metadata": {},
     "output_type": "execute_result"
    }
   ],
   "source": [
    "# Приведем названия столбцов к нижнему регистру\n",
    "hypothesis.columns = hypothesis.columns.str.lower()\n",
    "hypothesis"
   ]
  },
  {
   "cell_type": "markdown",
   "metadata": {},
   "source": [
    "### Применение фреймворка ICE для приоритизации гипотез. Сортировка их по убыванию приоритета."
   ]
  },
  {
   "cell_type": "code",
   "execution_count": 4,
   "metadata": {},
   "outputs": [
    {
     "data": {
      "text/html": [
       "<div>\n",
       "<style scoped>\n",
       "    .dataframe tbody tr th:only-of-type {\n",
       "        vertical-align: middle;\n",
       "    }\n",
       "\n",
       "    .dataframe tbody tr th {\n",
       "        vertical-align: top;\n",
       "    }\n",
       "\n",
       "    .dataframe thead th {\n",
       "        text-align: right;\n",
       "    }\n",
       "</style>\n",
       "<table border=\"1\" class=\"dataframe\">\n",
       "  <thead>\n",
       "    <tr style=\"text-align: right;\">\n",
       "      <th></th>\n",
       "      <th>hypothesis</th>\n",
       "      <th>ICE</th>\n",
       "    </tr>\n",
       "  </thead>\n",
       "  <tbody>\n",
       "    <tr>\n",
       "      <th>8</th>\n",
       "      <td>Запустить акцию, дающую скидку на товар в день рождения</td>\n",
       "      <td>16.20</td>\n",
       "    </tr>\n",
       "    <tr>\n",
       "      <th>0</th>\n",
       "      <td>Добавить два новых канала привлечения трафика, что позволит привлекать на 30% больше пользователей</td>\n",
       "      <td>13.33</td>\n",
       "    </tr>\n",
       "    <tr>\n",
       "      <th>7</th>\n",
       "      <td>Добавить форму подписки на все основные страницы, чтобы собрать базу клиентов для email-рассылок</td>\n",
       "      <td>11.20</td>\n",
       "    </tr>\n",
       "    <tr>\n",
       "      <th>6</th>\n",
       "      <td>Показать на главной странице баннеры с актуальными акциями и распродажами, чтобы увеличить конверсию</td>\n",
       "      <td>8.00</td>\n",
       "    </tr>\n",
       "    <tr>\n",
       "      <th>2</th>\n",
       "      <td>Добавить блоки рекомендаций товаров на сайт интернет магазина, чтобы повысить конверсию и средний чек заказа</td>\n",
       "      <td>7.00</td>\n",
       "    </tr>\n",
       "    <tr>\n",
       "      <th>1</th>\n",
       "      <td>Запустить собственную службу доставки, что сократит срок доставки заказов</td>\n",
       "      <td>2.00</td>\n",
       "    </tr>\n",
       "    <tr>\n",
       "      <th>5</th>\n",
       "      <td>Добавить страницу отзывов клиентов о магазине, что позволит увеличить количество заказов</td>\n",
       "      <td>1.33</td>\n",
       "    </tr>\n",
       "    <tr>\n",
       "      <th>3</th>\n",
       "      <td>Изменить структура категорий, что увеличит конверсию, т.к. пользователи быстрее найдут нужный товар</td>\n",
       "      <td>1.12</td>\n",
       "    </tr>\n",
       "    <tr>\n",
       "      <th>4</th>\n",
       "      <td>Изменить цвет фона главной страницы, чтобы увеличить вовлеченность пользователей</td>\n",
       "      <td>1.00</td>\n",
       "    </tr>\n",
       "  </tbody>\n",
       "</table>\n",
       "</div>"
      ],
      "text/plain": [
       "                                                                                                     hypothesis  \\\n",
       "8                                                       Запустить акцию, дающую скидку на товар в день рождения   \n",
       "0            Добавить два новых канала привлечения трафика, что позволит привлекать на 30% больше пользователей   \n",
       "7              Добавить форму подписки на все основные страницы, чтобы собрать базу клиентов для email-рассылок   \n",
       "6          Показать на главной странице баннеры с актуальными акциями и распродажами, чтобы увеличить конверсию   \n",
       "2  Добавить блоки рекомендаций товаров на сайт интернет магазина, чтобы повысить конверсию и средний чек заказа   \n",
       "1                                     Запустить собственную службу доставки, что сократит срок доставки заказов   \n",
       "5                      Добавить страницу отзывов клиентов о магазине, что позволит увеличить количество заказов   \n",
       "3           Изменить структура категорий, что увеличит конверсию, т.к. пользователи быстрее найдут нужный товар   \n",
       "4                              Изменить цвет фона главной страницы, чтобы увеличить вовлеченность пользователей   \n",
       "\n",
       "     ICE  \n",
       "8  16.20  \n",
       "0  13.33  \n",
       "7  11.20  \n",
       "6   8.00  \n",
       "2   7.00  \n",
       "1   2.00  \n",
       "5   1.33  \n",
       "3   1.12  \n",
       "4   1.00  "
      ]
     },
     "metadata": {},
     "output_type": "display_data"
    }
   ],
   "source": [
    "# Рассчитываем ICE и создаем для него отдельный столбец\n",
    "hypothesis['ICE'] = round (hypothesis['impact'] * hypothesis['confidence'] / hypothesis['efforts'], 2)\n",
    "\n",
    "# Увеличиваем ширину столбца, чтобы гипотезы полностью помещались\n",
    "pd.set_option('max_colwidth', 150)\n",
    "\n",
    "# Выводим гипотезы в порядке приоретизации по ICE\n",
    "display(hypothesis[['hypothesis' , 'ICE']].sort_values(by='ICE', ascending=False))"
   ]
  },
  {
   "cell_type": "markdown",
   "metadata": {},
   "source": [
    "### Применение фреймворка RICE для приоритизации гипотез. Сортировка их по убыванию приоритета."
   ]
  },
  {
   "cell_type": "code",
   "execution_count": 5,
   "metadata": {},
   "outputs": [
    {
     "data": {
      "text/html": [
       "<div>\n",
       "<style scoped>\n",
       "    .dataframe tbody tr th:only-of-type {\n",
       "        vertical-align: middle;\n",
       "    }\n",
       "\n",
       "    .dataframe tbody tr th {\n",
       "        vertical-align: top;\n",
       "    }\n",
       "\n",
       "    .dataframe thead th {\n",
       "        text-align: right;\n",
       "    }\n",
       "</style>\n",
       "<table border=\"1\" class=\"dataframe\">\n",
       "  <thead>\n",
       "    <tr style=\"text-align: right;\">\n",
       "      <th></th>\n",
       "      <th>hypothesis</th>\n",
       "      <th>RICE</th>\n",
       "    </tr>\n",
       "  </thead>\n",
       "  <tbody>\n",
       "    <tr>\n",
       "      <th>7</th>\n",
       "      <td>Добавить форму подписки на все основные страницы, чтобы собрать базу клиентов для email-рассылок</td>\n",
       "      <td>112.0</td>\n",
       "    </tr>\n",
       "    <tr>\n",
       "      <th>2</th>\n",
       "      <td>Добавить блоки рекомендаций товаров на сайт интернет магазина, чтобы повысить конверсию и средний чек заказа</td>\n",
       "      <td>56.0</td>\n",
       "    </tr>\n",
       "    <tr>\n",
       "      <th>0</th>\n",
       "      <td>Добавить два новых канала привлечения трафика, что позволит привлекать на 30% больше пользователей</td>\n",
       "      <td>40.0</td>\n",
       "    </tr>\n",
       "    <tr>\n",
       "      <th>6</th>\n",
       "      <td>Показать на главной странице баннеры с актуальными акциями и распродажами, чтобы увеличить конверсию</td>\n",
       "      <td>40.0</td>\n",
       "    </tr>\n",
       "    <tr>\n",
       "      <th>8</th>\n",
       "      <td>Запустить акцию, дающую скидку на товар в день рождения</td>\n",
       "      <td>16.2</td>\n",
       "    </tr>\n",
       "    <tr>\n",
       "      <th>3</th>\n",
       "      <td>Изменить структура категорий, что увеличит конверсию, т.к. пользователи быстрее найдут нужный товар</td>\n",
       "      <td>9.0</td>\n",
       "    </tr>\n",
       "    <tr>\n",
       "      <th>1</th>\n",
       "      <td>Запустить собственную службу доставки, что сократит срок доставки заказов</td>\n",
       "      <td>4.0</td>\n",
       "    </tr>\n",
       "    <tr>\n",
       "      <th>5</th>\n",
       "      <td>Добавить страницу отзывов клиентов о магазине, что позволит увеличить количество заказов</td>\n",
       "      <td>4.0</td>\n",
       "    </tr>\n",
       "    <tr>\n",
       "      <th>4</th>\n",
       "      <td>Изменить цвет фона главной страницы, чтобы увеличить вовлеченность пользователей</td>\n",
       "      <td>3.0</td>\n",
       "    </tr>\n",
       "  </tbody>\n",
       "</table>\n",
       "</div>"
      ],
      "text/plain": [
       "                                                                                                     hypothesis  \\\n",
       "7              Добавить форму подписки на все основные страницы, чтобы собрать базу клиентов для email-рассылок   \n",
       "2  Добавить блоки рекомендаций товаров на сайт интернет магазина, чтобы повысить конверсию и средний чек заказа   \n",
       "0            Добавить два новых канала привлечения трафика, что позволит привлекать на 30% больше пользователей   \n",
       "6          Показать на главной странице баннеры с актуальными акциями и распродажами, чтобы увеличить конверсию   \n",
       "8                                                       Запустить акцию, дающую скидку на товар в день рождения   \n",
       "3           Изменить структура категорий, что увеличит конверсию, т.к. пользователи быстрее найдут нужный товар   \n",
       "1                                     Запустить собственную службу доставки, что сократит срок доставки заказов   \n",
       "5                      Добавить страницу отзывов клиентов о магазине, что позволит увеличить количество заказов   \n",
       "4                              Изменить цвет фона главной страницы, чтобы увеличить вовлеченность пользователей   \n",
       "\n",
       "    RICE  \n",
       "7  112.0  \n",
       "2   56.0  \n",
       "0   40.0  \n",
       "6   40.0  \n",
       "8   16.2  \n",
       "3    9.0  \n",
       "1    4.0  \n",
       "5    4.0  \n",
       "4    3.0  "
      ]
     },
     "metadata": {},
     "output_type": "display_data"
    }
   ],
   "source": [
    "# Рассчитываем RICE и создаем для него отдельный столбец\n",
    "hypothesis['RICE'] = (hypothesis['reach'] * hypothesis['impact'] * hypothesis['confidence']) / hypothesis['efforts']\n",
    "\n",
    "# Выводим гипотезы в порядке приоретизации по RICE\n",
    "display(hypothesis[['hypothesis' , 'RICE']].sort_values(by='RICE', ascending=False))"
   ]
  },
  {
   "cell_type": "markdown",
   "metadata": {},
   "source": [
    "### Вывод: \n",
    "Приоритеты гипотез несколько разнятся. Это связано с тем, что RICE учитывает оценку количества пользователей, которых затронут изменения и чем их больше, тем приоритет гипотезы выше. Для ICE этот критерий не учитывается.\n",
    "\n",
    "Стоит отметить, что в обоих случаях можно выделить приоритетными гипотезы под номерами 7, 0, 6. Несмотря на то, что их приоритет разнится при оценке разными фреймворками, в обоих случаях они вверху нашего \"рейтинга\". Гипотезы же 4, 5, 3, 1 в обоих случаях имеют низкий приоритет."
   ]
  },
  {
   "cell_type": "markdown",
   "metadata": {},
   "source": [
    "## Анализ A/B-теста"
   ]
  },
  {
   "cell_type": "markdown",
   "metadata": {},
   "source": [
    "### Предобработка данных"
   ]
  },
  {
   "cell_type": "code",
   "execution_count": 6,
   "metadata": {},
   "outputs": [
    {
     "data": {
      "text/html": [
       "<div>\n",
       "<style scoped>\n",
       "    .dataframe tbody tr th:only-of-type {\n",
       "        vertical-align: middle;\n",
       "    }\n",
       "\n",
       "    .dataframe tbody tr th {\n",
       "        vertical-align: top;\n",
       "    }\n",
       "\n",
       "    .dataframe thead th {\n",
       "        text-align: right;\n",
       "    }\n",
       "</style>\n",
       "<table border=\"1\" class=\"dataframe\">\n",
       "  <thead>\n",
       "    <tr style=\"text-align: right;\">\n",
       "      <th></th>\n",
       "      <th>transactionId</th>\n",
       "      <th>visitorId</th>\n",
       "      <th>date</th>\n",
       "      <th>revenue</th>\n",
       "      <th>group</th>\n",
       "    </tr>\n",
       "  </thead>\n",
       "  <tbody>\n",
       "    <tr>\n",
       "      <th>0</th>\n",
       "      <td>3667963787</td>\n",
       "      <td>3312258926</td>\n",
       "      <td>2019-08-15</td>\n",
       "      <td>1650</td>\n",
       "      <td>B</td>\n",
       "    </tr>\n",
       "    <tr>\n",
       "      <th>1</th>\n",
       "      <td>2804400009</td>\n",
       "      <td>3642806036</td>\n",
       "      <td>2019-08-15</td>\n",
       "      <td>730</td>\n",
       "      <td>B</td>\n",
       "    </tr>\n",
       "    <tr>\n",
       "      <th>2</th>\n",
       "      <td>2961555356</td>\n",
       "      <td>4069496402</td>\n",
       "      <td>2019-08-15</td>\n",
       "      <td>400</td>\n",
       "      <td>A</td>\n",
       "    </tr>\n",
       "    <tr>\n",
       "      <th>3</th>\n",
       "      <td>3797467345</td>\n",
       "      <td>1196621759</td>\n",
       "      <td>2019-08-15</td>\n",
       "      <td>9759</td>\n",
       "      <td>B</td>\n",
       "    </tr>\n",
       "    <tr>\n",
       "      <th>4</th>\n",
       "      <td>2282983706</td>\n",
       "      <td>2322279887</td>\n",
       "      <td>2019-08-15</td>\n",
       "      <td>2308</td>\n",
       "      <td>B</td>\n",
       "    </tr>\n",
       "  </tbody>\n",
       "</table>\n",
       "</div>"
      ],
      "text/plain": [
       "   transactionId   visitorId        date  revenue group\n",
       "0     3667963787  3312258926  2019-08-15     1650     B\n",
       "1     2804400009  3642806036  2019-08-15      730     B\n",
       "2     2961555356  4069496402  2019-08-15      400     A\n",
       "3     3797467345  1196621759  2019-08-15     9759     B\n",
       "4     2282983706  2322279887  2019-08-15     2308     B"
      ]
     },
     "metadata": {},
     "output_type": "display_data"
    },
    {
     "name": "stdout",
     "output_type": "stream",
     "text": [
      "<class 'pandas.core.frame.DataFrame'>\n",
      "RangeIndex: 1197 entries, 0 to 1196\n",
      "Data columns (total 5 columns):\n",
      " #   Column         Non-Null Count  Dtype \n",
      "---  ------         --------------  ----- \n",
      " 0   transactionId  1197 non-null   int64 \n",
      " 1   visitorId      1197 non-null   int64 \n",
      " 2   date           1197 non-null   object\n",
      " 3   revenue        1197 non-null   int64 \n",
      " 4   group          1197 non-null   object\n",
      "dtypes: int64(3), object(2)\n",
      "memory usage: 46.9+ KB\n"
     ]
    },
    {
     "data": {
      "text/plain": [
       "None"
      ]
     },
     "metadata": {},
     "output_type": "display_data"
    }
   ],
   "source": [
    "# Данные у нас уже загружены, посмотрим на сами таблицы\n",
    "display(orders.head())\n",
    "display(orders.info())"
   ]
  },
  {
   "cell_type": "code",
   "execution_count": 7,
   "metadata": {},
   "outputs": [
    {
     "data": {
      "text/html": [
       "<div>\n",
       "<style scoped>\n",
       "    .dataframe tbody tr th:only-of-type {\n",
       "        vertical-align: middle;\n",
       "    }\n",
       "\n",
       "    .dataframe tbody tr th {\n",
       "        vertical-align: top;\n",
       "    }\n",
       "\n",
       "    .dataframe thead th {\n",
       "        text-align: right;\n",
       "    }\n",
       "</style>\n",
       "<table border=\"1\" class=\"dataframe\">\n",
       "  <thead>\n",
       "    <tr style=\"text-align: right;\">\n",
       "      <th></th>\n",
       "      <th>date</th>\n",
       "      <th>group</th>\n",
       "      <th>visitors</th>\n",
       "    </tr>\n",
       "  </thead>\n",
       "  <tbody>\n",
       "    <tr>\n",
       "      <th>0</th>\n",
       "      <td>2019-08-01</td>\n",
       "      <td>A</td>\n",
       "      <td>719</td>\n",
       "    </tr>\n",
       "    <tr>\n",
       "      <th>1</th>\n",
       "      <td>2019-08-02</td>\n",
       "      <td>A</td>\n",
       "      <td>619</td>\n",
       "    </tr>\n",
       "    <tr>\n",
       "      <th>2</th>\n",
       "      <td>2019-08-03</td>\n",
       "      <td>A</td>\n",
       "      <td>507</td>\n",
       "    </tr>\n",
       "    <tr>\n",
       "      <th>3</th>\n",
       "      <td>2019-08-04</td>\n",
       "      <td>A</td>\n",
       "      <td>717</td>\n",
       "    </tr>\n",
       "    <tr>\n",
       "      <th>4</th>\n",
       "      <td>2019-08-05</td>\n",
       "      <td>A</td>\n",
       "      <td>756</td>\n",
       "    </tr>\n",
       "  </tbody>\n",
       "</table>\n",
       "</div>"
      ],
      "text/plain": [
       "         date group  visitors\n",
       "0  2019-08-01     A       719\n",
       "1  2019-08-02     A       619\n",
       "2  2019-08-03     A       507\n",
       "3  2019-08-04     A       717\n",
       "4  2019-08-05     A       756"
      ]
     },
     "metadata": {},
     "output_type": "display_data"
    },
    {
     "name": "stdout",
     "output_type": "stream",
     "text": [
      "<class 'pandas.core.frame.DataFrame'>\n",
      "RangeIndex: 62 entries, 0 to 61\n",
      "Data columns (total 3 columns):\n",
      " #   Column    Non-Null Count  Dtype \n",
      "---  ------    --------------  ----- \n",
      " 0   date      62 non-null     object\n",
      " 1   group     62 non-null     object\n",
      " 2   visitors  62 non-null     int64 \n",
      "dtypes: int64(1), object(2)\n",
      "memory usage: 1.6+ KB\n"
     ]
    },
    {
     "data": {
      "text/plain": [
       "None"
      ]
     },
     "metadata": {},
     "output_type": "display_data"
    }
   ],
   "source": [
    "display(visitors.head())\n",
    "display(visitors.info())"
   ]
  },
  {
   "cell_type": "markdown",
   "metadata": {},
   "source": [
    "#### Приводим тип данных в столбцах date в обоих датафреймах к типу datetime"
   ]
  },
  {
   "cell_type": "code",
   "execution_count": 8,
   "metadata": {},
   "outputs": [],
   "source": [
    "\n",
    "orders['date'] = orders['date'].map(lambda x: dt.datetime.strptime(x, '%Y-%m-%d'))\n",
    "\n",
    "visitors['date'] = visitors['date'].map(lambda x: dt.datetime.strptime(x, '%Y-%m-%d'))"
   ]
  },
  {
   "cell_type": "code",
   "execution_count": 9,
   "metadata": {},
   "outputs": [
    {
     "name": "stdout",
     "output_type": "stream",
     "text": [
      "<class 'pandas.core.frame.DataFrame'>\n",
      "RangeIndex: 1197 entries, 0 to 1196\n",
      "Data columns (total 5 columns):\n",
      " #   Column         Non-Null Count  Dtype         \n",
      "---  ------         --------------  -----         \n",
      " 0   transactionId  1197 non-null   int64         \n",
      " 1   visitorId      1197 non-null   int64         \n",
      " 2   date           1197 non-null   datetime64[ns]\n",
      " 3   revenue        1197 non-null   int64         \n",
      " 4   group          1197 non-null   object        \n",
      "dtypes: datetime64[ns](1), int64(3), object(1)\n",
      "memory usage: 46.9+ KB\n"
     ]
    },
    {
     "data": {
      "text/plain": [
       "None"
      ]
     },
     "metadata": {},
     "output_type": "display_data"
    },
    {
     "name": "stdout",
     "output_type": "stream",
     "text": [
      "<class 'pandas.core.frame.DataFrame'>\n",
      "RangeIndex: 62 entries, 0 to 61\n",
      "Data columns (total 3 columns):\n",
      " #   Column    Non-Null Count  Dtype         \n",
      "---  ------    --------------  -----         \n",
      " 0   date      62 non-null     datetime64[ns]\n",
      " 1   group     62 non-null     object        \n",
      " 2   visitors  62 non-null     int64         \n",
      "dtypes: datetime64[ns](1), int64(1), object(1)\n",
      "memory usage: 1.6+ KB\n"
     ]
    },
    {
     "data": {
      "text/plain": [
       "None"
      ]
     },
     "metadata": {},
     "output_type": "display_data"
    }
   ],
   "source": [
    "# Проверяем изменения\n",
    "display(orders.info())\n",
    "display(visitors.info())"
   ]
  },
  {
   "cell_type": "markdown",
   "metadata": {},
   "source": [
    "#### Проверяем дубликаты"
   ]
  },
  {
   "cell_type": "code",
   "execution_count": 10,
   "metadata": {},
   "outputs": [
    {
     "data": {
      "text/plain": [
       "0"
      ]
     },
     "execution_count": 10,
     "metadata": {},
     "output_type": "execute_result"
    }
   ],
   "source": [
    "orders.duplicated().sum()"
   ]
  },
  {
   "cell_type": "code",
   "execution_count": 11,
   "metadata": {},
   "outputs": [
    {
     "data": {
      "text/plain": [
       "0"
      ]
     },
     "execution_count": 11,
     "metadata": {},
     "output_type": "execute_result"
    }
   ],
   "source": [
    "visitors.duplicated().sum()"
   ]
  },
  {
   "cell_type": "markdown",
   "metadata": {},
   "source": [
    "#### Проверим корректность разделения пользователей по группам.\n"
   ]
  },
  {
   "cell_type": "code",
   "execution_count": 12,
   "metadata": {},
   "outputs": [
    {
     "data": {
      "text/plain": [
       "58"
      ]
     },
     "execution_count": 12,
     "metadata": {},
     "output_type": "execute_result"
    }
   ],
   "source": [
    "\n",
    "# Отбираем группы из данных с заказами \n",
    "group_a=orders.query('group == \"A\"') \n",
    "group_b=orders.query('group == \"B\"') \n",
    "  \n",
    "# Получаем id пользователей, попавших в обе группы \n",
    "group_intersections=list(np.intersect1d(group_a['visitorId'], group_b['visitorId']))\n",
    "len(group_intersections)"
   ]
  },
  {
   "cell_type": "markdown",
   "metadata": {},
   "source": [
    "58 пользователей попали в обе группы. Чтобы избежать искажения данных, удалим записи об этих пользователях"
   ]
  },
  {
   "cell_type": "code",
   "execution_count": 13,
   "metadata": {},
   "outputs": [],
   "source": [
    "# Перезаписываем orders\n",
    "orders = orders.query('visitorId not in @group_intersections')"
   ]
  },
  {
   "cell_type": "markdown",
   "metadata": {},
   "source": [
    "Проверим, что данные удалены"
   ]
  },
  {
   "cell_type": "code",
   "execution_count": 14,
   "metadata": {},
   "outputs": [
    {
     "data": {
      "text/plain": [
       "0"
      ]
     },
     "execution_count": 14,
     "metadata": {},
     "output_type": "execute_result"
    }
   ],
   "source": [
    "# Отбираем группы из данных с заказами \n",
    "group_a=orders.query('group == \"A\"') \n",
    "group_b=orders.query('group == \"B\"') \n",
    "  \n",
    "# Получаем пользователей, попавших в обе группы \n",
    "group_intersections=list(np.intersect1d(group_a['visitorId'], group_b['visitorId']))\n",
    "len(group_intersections)"
   ]
  },
  {
   "cell_type": "markdown",
   "metadata": {},
   "source": [
    "### Построение графика кумулятивной выручки по группам."
   ]
  },
  {
   "cell_type": "markdown",
   "metadata": {},
   "source": [
    "Чтобы построить графики, нужно собрать кумулятивные данные. Создадим датафрейм cumulativeData со столбцами:\n",
    "\n",
    "date — дата;\n",
    "group — группа A/B-теста (A или B);\n",
    "orders — кумулятивное количество заказов на указанную дату в указанной группе;\n",
    "buyers — кумулятивное количество пользователей, совершивших хотя бы один заказ, на указанную дату в указанной группе;\n",
    "revenue — кумулятивная выручка на указанную дату в указанной группе (средний чек);\n",
    "visitors — кумулятивное количество посетителей интернет-магазина на указанную дату в определённой группе."
   ]
  },
  {
   "cell_type": "code",
   "execution_count": 15,
   "metadata": {},
   "outputs": [],
   "source": [
    "# Создаем массив уникальных пар значений дат и групп теста\n",
    "datesGroups = orders[['date','group']].drop_duplicates()"
   ]
  },
  {
   "cell_type": "markdown",
   "metadata": {},
   "source": [
    "Получим строки таблицы orders, дата которых меньше или равна дате элемента из datesGroups, а группа теста равна группе из datesGroups.\n",
    "\n",
    "Агрегируем значения. Вычислим максимальную дату. Для группы тоже рассчитаем максимум, и хотя она будет определённой, сделаем это, чтобы столбец group не пропал из итогового вывода. Найдём число уникальных ID заказов и пользователей. Подсчитаем сумму средних чеков\n",
    "\n",
    "Применим методы к каждой строке датафрейма и отсортируем результаты по столбцам date и group.\n",
    "\n",
    "Результат запишем в датафрейм ordersAgregated"
   ]
  },
  {
   "cell_type": "code",
   "execution_count": 16,
   "metadata": {},
   "outputs": [],
   "source": [
    "ordersAggregated = datesGroups.apply(lambda x: orders[np.logical_and(orders['date'] <= x['date'], orders['group'] == x['group'])]\\\n",
    ".agg({'date' : 'max', 'group' : 'max', 'transactionId' : 'nunique', 'visitorId' : 'nunique', 'revenue' : 'sum'}), axis=1).sort_values(by=['date','group'])"
   ]
  },
  {
   "cell_type": "markdown",
   "metadata": {},
   "source": [
    "Аналогично visitorsAggregated"
   ]
  },
  {
   "cell_type": "code",
   "execution_count": 17,
   "metadata": {},
   "outputs": [],
   "source": [
    "visitorsAggregated = datesGroups.apply(lambda x: visitors[np.logical_and(visitors['date'] <= x['date'], visitors['group'] == x\n",
    "['group'])].agg({'date' : 'max', 'group' : 'max', 'visitors' : 'sum'}), axis=1).sort_values(by=['date','group'])"
   ]
  },
  {
   "cell_type": "markdown",
   "metadata": {},
   "source": [
    "Объединяем кумулятивные данные в одной таблице и присваиваем ее столбцам понятные названия"
   ]
  },
  {
   "cell_type": "code",
   "execution_count": 18,
   "metadata": {},
   "outputs": [
    {
     "name": "stdout",
     "output_type": "stream",
     "text": [
      "        date group  orders  buyers  revenue  visitors\n",
      "0 2019-08-01     A      23      19   142779       719\n",
      "1 2019-08-01     B      17      17    59758       713\n",
      "2 2019-08-02     A      42      36   234381      1338\n",
      "3 2019-08-02     B      40      39   221801      1294\n",
      "4 2019-08-03     A      66      60   346854      1845\n"
     ]
    }
   ],
   "source": [
    "cumulativeData = ordersAggregated.merge(visitorsAggregated, left_on=['date', 'group'], right_on=['date', 'group'])\n",
    "cumulativeData.columns = ['date', 'group', 'orders', 'buyers', 'revenue', 'visitors']\n",
    "\n",
    "print(cumulativeData.head(5))"
   ]
  },
  {
   "cell_type": "markdown",
   "metadata": {},
   "source": [
    "Приступаем к построению графика"
   ]
  },
  {
   "cell_type": "code",
   "execution_count": 19,
   "metadata": {},
   "outputs": [
    {
     "data": {
      "image/png": "[encoded data removed]",
      "text/plain": [
       "<Figure size 1440x504 with 1 Axes>"
      ]
     },
     "metadata": {
      "needs_background": "light"
     },
     "output_type": "display_data"
    }
   ],
   "source": [
    "# Датафрейм с кумулятивным количеством заказов и кумулятивной выручкой по дням в группе А\n",
    "cumulativeRevenueA = cumulativeData[cumulativeData['group']=='A'][['date','revenue', 'orders']]\n",
    " \n",
    "# Датафрейм с кумулятивным количеством заказов и кумулятивной выручкой по дням в группе B\n",
    "cumulativeRevenueB = cumulativeData[cumulativeData['group']=='B'][['date','revenue', 'orders']]\n",
    "\n",
    "\n",
    "plt.figure(figsize=(20,7))\n",
    " \n",
    "# Строим график выручки группы А\n",
    "plt.plot(cumulativeRevenueA['date'], cumulativeRevenueA['revenue'], label='A')\n",
    " \n",
    "# Строим график выручки группы B\n",
    "plt.plot(cumulativeRevenueB['date'], cumulativeRevenueB['revenue'], label='B')\n",
    "\n",
    "plt.ylabel('Выручка')\n",
    "plt.xlabel('Дата')\n",
    "plt.title('Графики кумулятивной выручки по группам')\n",
    "plt.legend()\n",
    "plt.show()"
   ]
  },
  {
   "cell_type": "markdown",
   "metadata": {},
   "source": [
    "#### Вывод"
   ]
  },
  {
   "cell_type": "markdown",
   "metadata": {},
   "source": [
    "На протяжении всего графика выручка растет в обоих группах; в начале теста выручки в обоих группах примерно одинаковые; после 17.08 наблюдается резкий скачок в группе B, что может быть связано с резким увеличение количества заказов, либо с появлением очень дорогих товаров в выборке; после выброса в группе В выручки стабилизируются и растут практически одинаково. "
   ]
  },
  {
   "cell_type": "markdown",
   "metadata": {},
   "source": [
    "### Построение графика кумулятивного среднего чека по группам."
   ]
  },
  {
   "cell_type": "code",
   "execution_count": 20,
   "metadata": {},
   "outputs": [
    {
     "data": {
      "image/png": "[encoded data removed]",
      "text/plain": [
       "<Figure size 1440x504 with 1 Axes>"
      ]
     },
     "metadata": {
      "needs_background": "light"
     },
     "output_type": "display_data"
    }
   ],
   "source": [
    "plt.figure(figsize=(20,7))\n",
    "# График среднего чека группы А\n",
    "plt.plot(cumulativeRevenueA['date'], cumulativeRevenueA['revenue']/cumulativeRevenueA['orders'], label='A')\n",
    "\n",
    "# График среднего чека группы В\n",
    "plt.plot(cumulativeRevenueB['date'], cumulativeRevenueB['revenue']/cumulativeRevenueB['orders'], label='B')\n",
    "\n",
    "plt.title('График кумулятивного среднего чека по группам')\n",
    "plt.xlabel('Дата')\n",
    "plt.ylabel('Кумулятивный cредний чек')\n",
    "plt.legend();"
   ]
  },
  {
   "cell_type": "markdown",
   "metadata": {},
   "source": [
    "#### Вывод"
   ]
  },
  {
   "cell_type": "markdown",
   "metadata": {},
   "source": [
    "График группы А стабильнее, к концу теста значения практически равны пиковому, достигнутому 13.08; на графике группы В после 17.08 видим аномальное увеличение среднего чека,а затем снижение; к концу теста данные стабилизируются в обоих группах."
   ]
  },
  {
   "cell_type": "markdown",
   "metadata": {},
   "source": [
    "### Построение графика относительного изменения кумулятивного среднего чека группы B к группе A."
   ]
  },
  {
   "cell_type": "code",
   "execution_count": 21,
   "metadata": {},
   "outputs": [
    {
     "data": {
      "text/plain": [
       "Text(0, 0.5, 'Кумулятивный cредний чек')"
      ]
     },
     "execution_count": 21,
     "metadata": {},
     "output_type": "execute_result"
    },
    {
     "data": {
      "image/png": "[encoded data removed]",
      "text/plain": [
       "<Figure size 1080x360 with 1 Axes>"
      ]
     },
     "metadata": {
      "needs_background": "light"
     },
     "output_type": "display_data"
    }
   ],
   "source": [
    "# Собираем данные в одном датафрейме\n",
    "mergedCumulativeRevenue = cumulativeRevenueA.merge(cumulativeRevenueB, left_on='date', right_on='date', how='left', suffixes=['A', 'B'])\n",
    "\n",
    "plt.figure(figsize=(15,5))\n",
    " \n",
    "# Строим отношение средних чеков\n",
    "plt.plot(mergedCumulativeRevenue['date'], (mergedCumulativeRevenue['revenueB']/mergedCumulativeRevenue['ordersB'])/(mergedCumulativeRevenue['revenueA']/mergedCumulativeRevenue['ordersA'])-1)\n",
    " \n",
    "# Добавляем ось X\n",
    "plt.axhline(y=0, color='black', linestyle='--')\n",
    "\n",
    "plt.title('График относительного изменения кумулятивного среднего чека группы B к группе A')\n",
    "plt.xlabel('Дата')\n",
    "plt.ylabel('Кумулятивный cредний чек')"
   ]
  },
  {
   "cell_type": "markdown",
   "metadata": {},
   "source": [
    "#### Вывод"
   ]
  },
  {
   "cell_type": "markdown",
   "metadata": {},
   "source": [
    "В начале теста лучше себя чувствовали показатели группы B, затем они стали ухудшаться относительно А; ближе к середине теста 13.08 А достигает своих лучших показателей, поэтому график опускается в худшую за время теста для B точку; важно отметить, что на графике различия между сегментами резко изменяются в некоторые даты, например 05.08 или 08.08, но особенно выделяется скачок 18.08, очевидно есть выбросы; после выброса метрика снижается и стремится стабилизироваться."
   ]
  },
  {
   "cell_type": "markdown",
   "metadata": {},
   "source": [
    "### Построение графика кумулятивного среднего количества заказов на посетителя по группам."
   ]
  },
  {
   "cell_type": "code",
   "execution_count": 22,
   "metadata": {},
   "outputs": [
    {
     "data": {
      "image/png": "[encoded data removed]",
      "text/plain": [
       "<Figure size 1080x360 with 1 Axes>"
      ]
     },
     "metadata": {
      "needs_background": "light"
     },
     "output_type": "display_data"
    }
   ],
   "source": [
    "# Считаем среднее количество заказов на посетителя\n",
    "cumulativeData['conversion'] = cumulativeData['orders']/cumulativeData['visitors']\n",
    "\n",
    "# Отделяем данные по группе A\n",
    "cumulativeDataA = cumulativeData[cumulativeData['group']=='A']\n",
    "\n",
    "# Отделяем данные по группе B\n",
    "cumulativeDataB = cumulativeData[cumulativeData['group']=='B']\n",
    "\n",
    "# Строим графики\n",
    "plt.figure(figsize=(15,5))\n",
    " \n",
    "plt.plot(cumulativeDataA['date'], cumulativeDataA['conversion'], label='A')\n",
    "plt.plot(cumulativeDataB['date'], cumulativeDataB['conversion'], label='B')\n",
    "plt.legend()\n",
    "\n",
    "plt.title('График кумулятивной конверсии по группам')\n",
    "plt.xlabel('Дата')\n",
    "plt.ylabel('Кумулятивная конверсия');"
   ]
  },
  {
   "cell_type": "markdown",
   "metadata": {},
   "source": [
    "#### Вывод"
   ]
  },
  {
   "cell_type": "markdown",
   "metadata": {},
   "source": [
    "В начале видны сильные колебания и конверсия группы А значительно выше конверсии группы В, но 06-07.08 конверсия В начинает преобладать над А; примерно с 20.08 графики стабилизируются; в целом конверсия группы В значительно преобладает над А."
   ]
  },
  {
   "cell_type": "markdown",
   "metadata": {},
   "source": [
    "### Построение графика относительного изменения кумулятивного среднего количества заказов на посетителя группы B к группе A."
   ]
  },
  {
   "cell_type": "code",
   "execution_count": 23,
   "metadata": {},
   "outputs": [
    {
     "data": {
      "image/png": "[encoded data removed]",
      "text/plain": [
       "<Figure size 1080x360 with 1 Axes>"
      ]
     },
     "metadata": {
      "needs_background": "light"
     },
     "output_type": "display_data"
    }
   ],
   "source": [
    "mergedCumulativeConversions = cumulativeDataA[['date','conversion']].merge(cumulativeDataB[['date','conversion']], left_on='date', right_on='date', how='left', suffixes=['A', 'B'])\n",
    "plt.figure(figsize=(15,5))\n",
    "plt.plot(mergedCumulativeConversions['date'], mergedCumulativeConversions['conversionB']/mergedCumulativeConversions['conversionA']-1, label=\"Относительный прирост конверсии группы B к группе A\")\n",
    "plt.legend()\n",
    "\n",
    "plt.axhline(y=0, color='black', linestyle='--')\n",
    "\n",
    "plt.title('График относительного изменения кумулятивной конверсии группы B к группе A')\n",
    "plt.xlabel('Дата')\n",
    "plt.ylabel('Кумулятивная конверсия');"
   ]
  },
  {
   "cell_type": "markdown",
   "metadata": {},
   "source": [
    "#### Вывод"
   ]
  },
  {
   "cell_type": "markdown",
   "metadata": {},
   "source": [
    "С начала теста и до 06.08 метрика группы В была меньше, но затем начала стремительно расти и достигла своего пика 15.08, после она снижается и стремится к стабилизации"
   ]
  },
  {
   "cell_type": "markdown",
   "metadata": {},
   "source": [
    "### Построение точечного графика количества заказов по пользователям."
   ]
  },
  {
   "cell_type": "code",
   "execution_count": 24,
   "metadata": {},
   "outputs": [
    {
     "data": {
      "text/html": [
       "<div>\n",
       "<style scoped>\n",
       "    .dataframe tbody tr th:only-of-type {\n",
       "        vertical-align: middle;\n",
       "    }\n",
       "\n",
       "    .dataframe tbody tr th {\n",
       "        vertical-align: top;\n",
       "    }\n",
       "\n",
       "    .dataframe thead th {\n",
       "        text-align: right;\n",
       "    }\n",
       "</style>\n",
       "<table border=\"1\" class=\"dataframe\">\n",
       "  <thead>\n",
       "    <tr style=\"text-align: right;\">\n",
       "      <th></th>\n",
       "      <th>visitorId</th>\n",
       "      <th>orders</th>\n",
       "    </tr>\n",
       "  </thead>\n",
       "  <tbody>\n",
       "    <tr>\n",
       "      <th>908</th>\n",
       "      <td>3967698036</td>\n",
       "      <td>3</td>\n",
       "    </tr>\n",
       "    <tr>\n",
       "      <th>55</th>\n",
       "      <td>249864742</td>\n",
       "      <td>3</td>\n",
       "    </tr>\n",
       "    <tr>\n",
       "      <th>478</th>\n",
       "      <td>2108163459</td>\n",
       "      <td>3</td>\n",
       "    </tr>\n",
       "    <tr>\n",
       "      <th>687</th>\n",
       "      <td>2988190573</td>\n",
       "      <td>3</td>\n",
       "    </tr>\n",
       "    <tr>\n",
       "      <th>890</th>\n",
       "      <td>3908431265</td>\n",
       "      <td>3</td>\n",
       "    </tr>\n",
       "    <tr>\n",
       "      <th>138</th>\n",
       "      <td>611059232</td>\n",
       "      <td>3</td>\n",
       "    </tr>\n",
       "    <tr>\n",
       "      <th>632</th>\n",
       "      <td>2742574263</td>\n",
       "      <td>3</td>\n",
       "    </tr>\n",
       "    <tr>\n",
       "      <th>157</th>\n",
       "      <td>678354126</td>\n",
       "      <td>2</td>\n",
       "    </tr>\n",
       "    <tr>\n",
       "      <th>323</th>\n",
       "      <td>1404560065</td>\n",
       "      <td>2</td>\n",
       "    </tr>\n",
       "    <tr>\n",
       "      <th>452</th>\n",
       "      <td>1985475298</td>\n",
       "      <td>2</td>\n",
       "    </tr>\n",
       "  </tbody>\n",
       "</table>\n",
       "</div>"
      ],
      "text/plain": [
       "      visitorId  orders\n",
       "908  3967698036       3\n",
       "55    249864742       3\n",
       "478  2108163459       3\n",
       "687  2988190573       3\n",
       "890  3908431265       3\n",
       "138   611059232       3\n",
       "632  2742574263       3\n",
       "157   678354126       2\n",
       "323  1404560065       2\n",
       "452  1985475298       2"
      ]
     },
     "execution_count": 24,
     "metadata": {},
     "output_type": "execute_result"
    }
   ],
   "source": [
    "# Посмотрим на топ количества заказов в табличном виде\n",
    "ordersByUsers = (orders.groupby('visitorId', as_index=False).agg({'transactionId': pd.Series.nunique}))\n",
    "ordersByUsers.columns = ['visitorId', 'orders']\n",
    "\n",
    "ordersByUsers.sort_values(by='orders', ascending=False).head(10)"
   ]
  },
  {
   "cell_type": "code",
   "execution_count": 25,
   "metadata": {},
   "outputs": [
    {
     "data": {
      "text/plain": [
       "Text(0, 0.5, 'Количество заказов')"
      ]
     },
     "execution_count": 25,
     "metadata": {},
     "output_type": "execute_result"
    },
    {
     "data": {
      "image/png": "[encoded data removed]",
      "text/plain": [
       "<Figure size 1080x360 with 1 Axes>"
      ]
     },
     "metadata": {
      "needs_background": "light"
     },
     "output_type": "display_data"
    }
   ],
   "source": [
    "# Строим график\n",
    "\n",
    "# Серия из чисел от 0 до количества наблюдений в ordersByUsers\n",
    "x_values = pd.Series(range(0, len(ordersByUsers)))\n",
    "plt.figure(figsize=(15,5))\n",
    "plt.scatter(x_values, ordersByUsers['orders']);\n",
    "\n",
    "plt.title('Точечный график количества заказов по пользователям')\n",
    "plt.ylabel('Количество заказов')"
   ]
  },
  {
   "cell_type": "markdown",
   "metadata": {},
   "source": [
    "#### Вывод"
   ]
  },
  {
   "cell_type": "markdown",
   "metadata": {},
   "source": [
    "Чаще всего пользователи делали один заказ, реже - два, некоторое количество пользователей делали по три заказа."
   ]
  },
  {
   "cell_type": "markdown",
   "metadata": {},
   "source": [
    "### Расчет 95-го и 99-го перцентилей количества заказов на пользователя."
   ]
  },
  {
   "cell_type": "code",
   "execution_count": 26,
   "metadata": {},
   "outputs": [
    {
     "name": "stdout",
     "output_type": "stream",
     "text": [
      "[1. 2.]\n"
     ]
    }
   ],
   "source": [
    "print(np.percentile(ordersByUsers['orders'], [95, 99]))"
   ]
  },
  {
   "cell_type": "markdown",
   "metadata": {},
   "source": [
    "#### Вывод"
   ]
  },
  {
   "cell_type": "markdown",
   "metadata": {},
   "source": [
    "Не более 5% пользователей оформили больше одного и не более 1% пользователей - больше двух заказов. Целесообразно выбрать 1 заказ на одного пользователя за нижнюю границу \"нормального\" числа заказов и отсеять аномальных пользователей."
   ]
  },
  {
   "cell_type": "markdown",
   "metadata": {},
   "source": [
    "### Построение точечного графика стоимостей заказов."
   ]
  },
  {
   "cell_type": "code",
   "execution_count": 27,
   "metadata": {},
   "outputs": [
    {
     "data": {
      "text/html": [
       "<div>\n",
       "<style scoped>\n",
       "    .dataframe tbody tr th:only-of-type {\n",
       "        vertical-align: middle;\n",
       "    }\n",
       "\n",
       "    .dataframe tbody tr th {\n",
       "        vertical-align: top;\n",
       "    }\n",
       "\n",
       "    .dataframe thead th {\n",
       "        text-align: right;\n",
       "    }\n",
       "</style>\n",
       "<table border=\"1\" class=\"dataframe\">\n",
       "  <thead>\n",
       "    <tr style=\"text-align: right;\">\n",
       "      <th></th>\n",
       "      <th>transactionId</th>\n",
       "      <th>visitorId</th>\n",
       "      <th>date</th>\n",
       "      <th>revenue</th>\n",
       "      <th>group</th>\n",
       "    </tr>\n",
       "  </thead>\n",
       "  <tbody>\n",
       "    <tr>\n",
       "      <th>425</th>\n",
       "      <td>590470918</td>\n",
       "      <td>1920142716</td>\n",
       "      <td>2019-08-19</td>\n",
       "      <td>1294500</td>\n",
       "      <td>B</td>\n",
       "    </tr>\n",
       "    <tr>\n",
       "      <th>1196</th>\n",
       "      <td>3936777065</td>\n",
       "      <td>2108080724</td>\n",
       "      <td>2019-08-15</td>\n",
       "      <td>202740</td>\n",
       "      <td>B</td>\n",
       "    </tr>\n",
       "    <tr>\n",
       "      <th>1136</th>\n",
       "      <td>666610489</td>\n",
       "      <td>1307669133</td>\n",
       "      <td>2019-08-13</td>\n",
       "      <td>92550</td>\n",
       "      <td>A</td>\n",
       "    </tr>\n",
       "    <tr>\n",
       "      <th>744</th>\n",
       "      <td>3668308183</td>\n",
       "      <td>888512513</td>\n",
       "      <td>2019-08-27</td>\n",
       "      <td>86620</td>\n",
       "      <td>B</td>\n",
       "    </tr>\n",
       "    <tr>\n",
       "      <th>743</th>\n",
       "      <td>3603576309</td>\n",
       "      <td>4133034833</td>\n",
       "      <td>2019-08-09</td>\n",
       "      <td>67990</td>\n",
       "      <td>A</td>\n",
       "    </tr>\n",
       "    <tr>\n",
       "      <th>1103</th>\n",
       "      <td>1348774318</td>\n",
       "      <td>1164614297</td>\n",
       "      <td>2019-08-12</td>\n",
       "      <td>66350</td>\n",
       "      <td>A</td>\n",
       "    </tr>\n",
       "    <tr>\n",
       "      <th>1099</th>\n",
       "      <td>316924019</td>\n",
       "      <td>148427295</td>\n",
       "      <td>2019-08-12</td>\n",
       "      <td>65710</td>\n",
       "      <td>A</td>\n",
       "    </tr>\n",
       "    <tr>\n",
       "      <th>949</th>\n",
       "      <td>1347999392</td>\n",
       "      <td>887908475</td>\n",
       "      <td>2019-08-21</td>\n",
       "      <td>60450</td>\n",
       "      <td>A</td>\n",
       "    </tr>\n",
       "    <tr>\n",
       "      <th>940</th>\n",
       "      <td>2420050534</td>\n",
       "      <td>4003628586</td>\n",
       "      <td>2019-08-08</td>\n",
       "      <td>58550</td>\n",
       "      <td>B</td>\n",
       "    </tr>\n",
       "    <tr>\n",
       "      <th>131</th>\n",
       "      <td>3163614039</td>\n",
       "      <td>2254586615</td>\n",
       "      <td>2019-08-22</td>\n",
       "      <td>53904</td>\n",
       "      <td>A</td>\n",
       "    </tr>\n",
       "  </tbody>\n",
       "</table>\n",
       "</div>"
      ],
      "text/plain": [
       "      transactionId   visitorId       date  revenue group\n",
       "425       590470918  1920142716 2019-08-19  1294500     B\n",
       "1196     3936777065  2108080724 2019-08-15   202740     B\n",
       "1136      666610489  1307669133 2019-08-13    92550     A\n",
       "744      3668308183   888512513 2019-08-27    86620     B\n",
       "743      3603576309  4133034833 2019-08-09    67990     A\n",
       "1103     1348774318  1164614297 2019-08-12    66350     A\n",
       "1099      316924019   148427295 2019-08-12    65710     A\n",
       "949      1347999392   887908475 2019-08-21    60450     A\n",
       "940      2420050534  4003628586 2019-08-08    58550     B\n",
       "131      3163614039  2254586615 2019-08-22    53904     A"
      ]
     },
     "execution_count": 27,
     "metadata": {},
     "output_type": "execute_result"
    }
   ],
   "source": [
    "# Посмотрим в табличном виде топ стоимостей заказов\n",
    "orders.sort_values(by='revenue', ascending=False).head(10)"
   ]
  },
  {
   "cell_type": "markdown",
   "metadata": {},
   "source": [
    "Уже здесь видно, что два самых дорогостоящих заказа принадлежат пользователям группы В, что и может являться причиной всплесков на предыдущих графиках."
   ]
  },
  {
   "cell_type": "code",
   "execution_count": 28,
   "metadata": {},
   "outputs": [
    {
     "data": {
      "text/plain": [
       "Text(0, 0.5, 'Стоимость заказа в млн.')"
      ]
     },
     "execution_count": 28,
     "metadata": {},
     "output_type": "execute_result"
    },
    {
     "data": {
      "image/png": "[encoded data removed]",
      "text/plain": [
       "<Figure size 1080x720 with 1 Axes>"
      ]
     },
     "metadata": {
      "needs_background": "light"
     },
     "output_type": "display_data"
    }
   ],
   "source": [
    "# Строим точечный график\n",
    "x_values = pd.Series(range(0, len(orders['revenue'])))\n",
    "plt.figure(figsize=(15,10))\n",
    "plt.scatter(x_values, orders['revenue']);\n",
    "plt.title('Точечный график стоимостей заказов')\n",
    "plt.ylabel('Стоимость заказа в млн.')\n"
   ]
  },
  {
   "cell_type": "markdown",
   "metadata": {},
   "source": [
    "#### Вывод"
   ]
  },
  {
   "cell_type": "markdown",
   "metadata": {},
   "source": [
    "Здесь выбиваются заказы на сумму 1294500 и 202740, все остальные заказы дешевле 92500. Для того, чтобы точно определить стоимость заказа, которую следует считать аномальной, посчитаем выборочные перцентили."
   ]
  },
  {
   "cell_type": "markdown",
   "metadata": {},
   "source": [
    "### Расчет 95-го и 99-го перцентилей стоимостей заказов."
   ]
  },
  {
   "cell_type": "code",
   "execution_count": 29,
   "metadata": {},
   "outputs": [
    {
     "name": "stdout",
     "output_type": "stream",
     "text": [
      "[26785. 53904.]\n"
     ]
    }
   ],
   "source": [
    "print(np.percentile(orders['revenue'], [95, 99]))"
   ]
  },
  {
   "cell_type": "markdown",
   "metadata": {},
   "source": [
    "#### Вывод"
   ]
  },
  {
   "cell_type": "markdown",
   "metadata": {},
   "source": [
    "Не более чем 5% пользователей оформили заказ дороже 26 785, и только не более 1% пользователей оформили на чек дороже 53 904. Границей для определения аномальных заказов следует обозначить до 26 785."
   ]
  },
  {
   "cell_type": "markdown",
   "metadata": {},
   "source": [
    "### Расчет статистической значимости различий в среднем количестве заказов на посетителя между группами по «сырым» данным."
   ]
  },
  {
   "cell_type": "code",
   "execution_count": 30,
   "metadata": {},
   "outputs": [
    {
     "data": {
      "text/html": [
       "<div>\n",
       "<style scoped>\n",
       "    .dataframe tbody tr th:only-of-type {\n",
       "        vertical-align: middle;\n",
       "    }\n",
       "\n",
       "    .dataframe tbody tr th {\n",
       "        vertical-align: top;\n",
       "    }\n",
       "\n",
       "    .dataframe thead th {\n",
       "        text-align: right;\n",
       "    }\n",
       "</style>\n",
       "<table border=\"1\" class=\"dataframe\">\n",
       "  <thead>\n",
       "    <tr style=\"text-align: right;\">\n",
       "      <th></th>\n",
       "      <th>date</th>\n",
       "      <th>ordersPerDateA</th>\n",
       "      <th>revenuePerDateA</th>\n",
       "      <th>ordersPerDateB</th>\n",
       "      <th>revenuePerDateB</th>\n",
       "      <th>ordersCummulativeA</th>\n",
       "      <th>revenueCummulativeA</th>\n",
       "      <th>ordersCummulativeB</th>\n",
       "      <th>revenueCummulativeB</th>\n",
       "      <th>visitorsPerDateA</th>\n",
       "      <th>visitorsPerDateB</th>\n",
       "      <th>visitorsCummulativeA</th>\n",
       "      <th>visitorsCummulativeB</th>\n",
       "    </tr>\n",
       "  </thead>\n",
       "  <tbody>\n",
       "    <tr>\n",
       "      <th>0</th>\n",
       "      <td>2019-08-01</td>\n",
       "      <td>23</td>\n",
       "      <td>142779</td>\n",
       "      <td>17</td>\n",
       "      <td>59758</td>\n",
       "      <td>23</td>\n",
       "      <td>142779</td>\n",
       "      <td>17</td>\n",
       "      <td>59758</td>\n",
       "      <td>719</td>\n",
       "      <td>713</td>\n",
       "      <td>719</td>\n",
       "      <td>713</td>\n",
       "    </tr>\n",
       "    <tr>\n",
       "      <th>1</th>\n",
       "      <td>2019-08-02</td>\n",
       "      <td>19</td>\n",
       "      <td>91602</td>\n",
       "      <td>23</td>\n",
       "      <td>162043</td>\n",
       "      <td>42</td>\n",
       "      <td>234381</td>\n",
       "      <td>40</td>\n",
       "      <td>221801</td>\n",
       "      <td>619</td>\n",
       "      <td>581</td>\n",
       "      <td>1338</td>\n",
       "      <td>1294</td>\n",
       "    </tr>\n",
       "    <tr>\n",
       "      <th>2</th>\n",
       "      <td>2019-08-03</td>\n",
       "      <td>24</td>\n",
       "      <td>112473</td>\n",
       "      <td>14</td>\n",
       "      <td>67049</td>\n",
       "      <td>66</td>\n",
       "      <td>346854</td>\n",
       "      <td>54</td>\n",
       "      <td>288850</td>\n",
       "      <td>507</td>\n",
       "      <td>509</td>\n",
       "      <td>1845</td>\n",
       "      <td>1803</td>\n",
       "    </tr>\n",
       "    <tr>\n",
       "      <th>3</th>\n",
       "      <td>2019-08-04</td>\n",
       "      <td>11</td>\n",
       "      <td>41176</td>\n",
       "      <td>14</td>\n",
       "      <td>96890</td>\n",
       "      <td>77</td>\n",
       "      <td>388030</td>\n",
       "      <td>68</td>\n",
       "      <td>385740</td>\n",
       "      <td>717</td>\n",
       "      <td>770</td>\n",
       "      <td>2562</td>\n",
       "      <td>2573</td>\n",
       "    </tr>\n",
       "    <tr>\n",
       "      <th>4</th>\n",
       "      <td>2019-08-05</td>\n",
       "      <td>22</td>\n",
       "      <td>86383</td>\n",
       "      <td>21</td>\n",
       "      <td>89908</td>\n",
       "      <td>99</td>\n",
       "      <td>474413</td>\n",
       "      <td>89</td>\n",
       "      <td>475648</td>\n",
       "      <td>756</td>\n",
       "      <td>707</td>\n",
       "      <td>3318</td>\n",
       "      <td>3280</td>\n",
       "    </tr>\n",
       "  </tbody>\n",
       "</table>\n",
       "</div>"
      ],
      "text/plain": [
       "        date  ordersPerDateA  revenuePerDateA  ordersPerDateB  \\\n",
       "0 2019-08-01              23           142779              17   \n",
       "1 2019-08-02              19            91602              23   \n",
       "2 2019-08-03              24           112473              14   \n",
       "3 2019-08-04              11            41176              14   \n",
       "4 2019-08-05              22            86383              21   \n",
       "\n",
       "   revenuePerDateB  ordersCummulativeA  revenueCummulativeA  \\\n",
       "0            59758                  23               142779   \n",
       "1           162043                  42               234381   \n",
       "2            67049                  66               346854   \n",
       "3            96890                  77               388030   \n",
       "4            89908                  99               474413   \n",
       "\n",
       "   ordersCummulativeB  revenueCummulativeB  visitorsPerDateA  \\\n",
       "0                  17                59758               719   \n",
       "1                  40               221801               619   \n",
       "2                  54               288850               507   \n",
       "3                  68               385740               717   \n",
       "4                  89               475648               756   \n",
       "\n",
       "   visitorsPerDateB  visitorsCummulativeA  visitorsCummulativeB  \n",
       "0               713                   719                   713  \n",
       "1               581                  1338                  1294  \n",
       "2               509                  1845                  1803  \n",
       "3               770                  2562                  2573  \n",
       "4               707                  3318                  3280  "
      ]
     },
     "execution_count": 30,
     "metadata": {},
     "output_type": "execute_result"
    }
   ],
   "source": [
    "visitorsADaily = visitors[visitors['group']=='A'][['date', 'visitors']]\n",
    "visitorsADaily.columns = ['date', 'visitorsPerDateA']\n",
    "\n",
    "visitorsACummulative = visitorsADaily.apply(lambda x: visitorsADaily[visitorsADaily['date'] <= x['date']]. \\\n",
    "                                            agg({'date' : 'max', 'visitorsPerDateA' : 'sum'}), axis=1)\n",
    "visitorsACummulative.columns = ['date', 'visitorsCummulativeA']\n",
    "\n",
    "visitorsBDaily = visitors[visitors['group']=='B'][['date', 'visitors']]\n",
    "visitorsBDaily.columns = ['date', 'visitorsPerDateB']\n",
    "\n",
    "visitorsBCummulative = visitorsBDaily.apply(lambda x: visitorsBDaily[visitorsBDaily['date'] <= x['date']]. \\\n",
    "                                            agg({'date' : 'max', 'visitorsPerDateB' : 'sum'}), axis=1)\n",
    "visitorsBCummulative.columns = ['date', 'visitorsCummulativeB']\n",
    "\n",
    "\n",
    "ordersADaily = orders[orders['group']=='A'][['date', 'transactionId', 'visitorId', 'revenue']]\\\n",
    "    .groupby('date', as_index=False)\\\n",
    "    .agg({'transactionId' : pd.Series.nunique, 'revenue' : 'sum'})\n",
    "ordersADaily.columns = ['date', 'ordersPerDateA', 'revenuePerDateA']\n",
    "\n",
    "ordersACummulative = ordersADaily.apply(\n",
    "    lambda x: \\\n",
    "        ordersADaily[ordersADaily['date'] <= x['date']]\\\n",
    "            .agg({\n",
    "                'date' : 'max',\n",
    "                'ordersPerDateA' : 'sum',\n",
    "                'revenuePerDateA' : 'sum'}), axis=1).sort_values(by=['date'])\n",
    "ordersACummulative.columns = ['date', 'ordersCummulativeA', 'revenueCummulativeA']\n",
    "\n",
    "ordersBDaily = orders[orders['group']=='B'][['date', 'transactionId', 'visitorId', 'revenue']]\\\n",
    "    .groupby('date', as_index=False)\\\n",
    "    .agg({'transactionId' : pd.Series.nunique, 'revenue' : 'sum'})\n",
    "ordersBDaily.columns = ['date', 'ordersPerDateB', 'revenuePerDateB']\n",
    "\n",
    "ordersBCummulative = ordersBDaily.apply(\n",
    "    lambda x: \\\n",
    "        ordersBDaily[ordersBDaily['date'] <= x['date']]\\\n",
    "            .agg({\n",
    "                'date' : 'max',\n",
    "                'ordersPerDateB' : 'sum',\n",
    "                'revenuePerDateB' : 'sum'}), axis=1).sort_values(by=['date'])\n",
    "ordersBCummulative.columns = ['date', 'ordersCummulativeB', 'revenueCummulativeB']\n",
    "\n",
    "\n",
    "data = ordersADaily.merge(ordersBDaily, left_on='date', right_on='date', how='left')\\\n",
    "    .merge(ordersACummulative, left_on='date', right_on='date', how='left')\\\n",
    "    .merge(ordersBCummulative, left_on='date', right_on='date', how='left')\\\n",
    "    .merge(visitorsADaily, left_on='date', right_on='date', how='left')\\\n",
    "    .merge(visitorsBDaily, left_on='date', right_on='date', how='left')\\\n",
    "    .merge(visitorsACummulative, left_on='date', right_on='date', how='left')\\\n",
    "    .merge(visitorsBCummulative, left_on='date', right_on='date', how='left')\n",
    "\n",
    "data.head(5)"
   ]
  },
  {
   "cell_type": "markdown",
   "metadata": {},
   "source": [
    "Гипотезы:  \n",
    "H0:Статистически значимых различий в среднем количестве заказов на посетителя между группами нет.  \n",
    "H1:Статистически значимые различия в среднем количестве заказов на посетителя между группами есть."
   ]
  },
  {
   "cell_type": "code",
   "execution_count": 31,
   "metadata": {},
   "outputs": [
    {
     "name": "stdout",
     "output_type": "stream",
     "text": [
      "0.011\n",
      "0.160\n"
     ]
    }
   ],
   "source": [
    "ordersByUsersA = orders[orders['group']=='A'].groupby('visitorId', as_index=False).agg({'transactionId' : pd.Series.nunique})\n",
    "ordersByUsersA.columns = ['userId', 'orders']\n",
    "\n",
    "ordersByUsersB = orders[orders['group']=='B'].groupby('visitorId', as_index=False).agg({'transactionId' : pd.Series.nunique})\n",
    "ordersByUsersB.columns = ['userId', 'orders']\n",
    "\n",
    "sampleA = pd.concat(\n",
    "    [\n",
    "        ordersByUsersA['orders'],\n",
    "        pd.Series(\n",
    "            0,\n",
    "            index=np.arange(\n",
    "                data['visitorsPerDateA'].sum() - len(ordersByUsersA['orders'])\n",
    "            ),\n",
    "            name='orders',\n",
    "        ),\n",
    "    ],\n",
    "    axis=0,\n",
    ")\n",
    " \n",
    "sampleB = pd.concat(\n",
    "    [\n",
    "        ordersByUsersB['orders'],\n",
    "        pd.Series(\n",
    "            0,\n",
    "            index=np.arange(\n",
    "                data['visitorsPerDateB'].sum() - len(ordersByUsersB['orders'])\n",
    "            ),\n",
    "            name='orders',\n",
    "        ),\n",
    "    ],\n",
    "    axis=0,\n",
    ")\n",
    " \n",
    "print(\"{0:.3f}\".format(stats.mannwhitneyu(sampleA, sampleB)[1]))\n",
    " \n",
    "print(\"{0:.3f}\".format(sampleB.mean() / sampleA.mean() - 1))\n"
   ]
  },
  {
   "cell_type": "markdown",
   "metadata": {},
   "source": [
    "#### Вывод"
   ]
  },
  {
   "cell_type": "markdown",
   "metadata": {},
   "source": [
    "Первое число — p-value = 0.011 меньше 0.05. Значит, нулевую гипотезу отвергаем, статистически значимые различия есть.\n",
    "Конверсия группы B превышает конверсию группы А на 16%"
   ]
  },
  {
   "cell_type": "markdown",
   "metadata": {},
   "source": [
    "### Расчет статистической значимости различий в среднем чеке заказа между группами по «сырым» данным."
   ]
  },
  {
   "cell_type": "markdown",
   "metadata": {},
   "source": [
    "Гипотезы:   \n",
    "H0:Статистически значимых различий между средними чеками групп А и В нет  \n",
    "H1:Статистически значимые различия между средними чеками групп А и В есть  "
   ]
  },
  {
   "cell_type": "code",
   "execution_count": 32,
   "metadata": {},
   "outputs": [
    {
     "name": "stdout",
     "output_type": "stream",
     "text": [
      "0.829\n",
      "0.287\n"
     ]
    }
   ],
   "source": [
    "print('{0:.3f}'.format(stats.mannwhitneyu(orders[orders['group']=='A']['revenue'], orders[orders['group']=='B']['revenue'])[1]))\n",
    "print('{0:.3f}'.format(orders[orders['group']=='B']['revenue'].mean()/orders[orders['group']=='A']['revenue'].mean()-1))"
   ]
  },
  {
   "cell_type": "markdown",
   "metadata": {},
   "source": [
    "#### Вывод"
   ]
  },
  {
   "cell_type": "markdown",
   "metadata": {},
   "source": [
    "Первое число — p-value = 0.829 значительно больше 0.05. Значит, нулевую гипотезу о том, что статистически значимых различий между группами в размере среднего чека нет, принимаем. Наблюдаемое различие в 29% может быть вызвано выбросами. Проверим это далее на очищенных данных."
   ]
  },
  {
   "cell_type": "markdown",
   "metadata": {},
   "source": [
    "### Расчет статистической значимости различий в среднем количестве заказов на посетителя между группами по «очищенным» данным. "
   ]
  },
  {
   "cell_type": "markdown",
   "metadata": {},
   "source": [
    "За аномальных пользователей примем тех, кто совершил более 1 заказа или совершил заказ дороже 26 785 рублей. Сделаем срезы пользователей с числом заказов больше 2и пользователей, совершивших заказы дороже 26 785. Объединим их в таблице abnormalUsers."
   ]
  },
  {
   "cell_type": "code",
   "execution_count": 33,
   "metadata": {},
   "outputs": [
    {
     "name": "stdout",
     "output_type": "stream",
     "text": [
      "568     113298937\n",
      "1099    148427295\n",
      "928     204675465\n",
      "33      249864742\n",
      "684     358944393\n",
      "dtype: int64\n",
      "86\n"
     ]
    }
   ],
   "source": [
    "usersWithManyOrders = pd.concat(\n",
    "    [\n",
    "        ordersByUsersA[ordersByUsersA['orders'] > 1]['userId'],\n",
    "        ordersByUsersB[ordersByUsersB['orders'] > 1]['userId'],\n",
    "    ],\n",
    "    axis=0,\n",
    ")\n",
    "usersWithExpensiveOrders = orders[orders['revenue'] > 26785]['visitorId']\n",
    "abnormalUsers = (\n",
    "    pd.concat([usersWithManyOrders, usersWithExpensiveOrders], axis=0)\n",
    "    .drop_duplicates()\n",
    "    .sort_values()\n",
    ")\n",
    "print(abnormalUsers.head(5))\n",
    "print(abnormalUsers.shape[0])"
   ]
  },
  {
   "cell_type": "markdown",
   "metadata": {},
   "source": [
    "Получилось 86 аномальных покупателей"
   ]
  },
  {
   "cell_type": "markdown",
   "metadata": {},
   "source": [
    "Посчитаем статистическую значимость различий в среднем количестве заказов на посетителя между группами по «очищенным» данным. "
   ]
  },
  {
   "cell_type": "markdown",
   "metadata": {},
   "source": [
    "Гипотезы:   \n",
    "H0:Статистически значимых различий в среднем количестве заказов на посетителя между группами нет.  \n",
    "H1:Статистически значимые различия в среднем количестве заказов на посетителя между группами есть."
   ]
  },
  {
   "cell_type": "code",
   "execution_count": 34,
   "metadata": {},
   "outputs": [],
   "source": [
    "sampleAFiltered = pd.concat(\n",
    "    [\n",
    "        ordersByUsersA[\n",
    "            np.logical_not(ordersByUsersA['userId'].isin(abnormalUsers))\n",
    "        ]['orders'],\n",
    "        pd.Series(\n",
    "            0,\n",
    "            index=np.arange(\n",
    "                data['visitorsPerDateA'].sum() - len(ordersByUsersA['orders'])\n",
    "            ),\n",
    "            name='orders',\n",
    "        ),\n",
    "    ],\n",
    "    axis=0,\n",
    ")\n",
    "\n",
    "sampleBFiltered = pd.concat(\n",
    "    [\n",
    "        ordersByUsersB[\n",
    "            np.logical_not(ordersByUsersB['userId'].isin(abnormalUsers))\n",
    "        ]['orders'],\n",
    "        pd.Series(\n",
    "            0,\n",
    "            index=np.arange(\n",
    "                data['visitorsPerDateB'].sum() - len(ordersByUsersB['orders'])\n",
    "            ),\n",
    "            name='orders',\n",
    "        ),\n",
    "    ],\n",
    "    axis=0,\n",
    ")"
   ]
  },
  {
   "cell_type": "code",
   "execution_count": 35,
   "metadata": {},
   "outputs": [
    {
     "name": "stdout",
     "output_type": "stream",
     "text": [
      "0.016\n",
      "0.174\n"
     ]
    }
   ],
   "source": [
    "print('{0:.3f}'.format(stats.mannwhitneyu(sampleAFiltered, sampleBFiltered)[1]))\n",
    "print('{0:.3f}'.format(sampleBFiltered.mean()/sampleAFiltered.mean()-1))"
   ]
  },
  {
   "cell_type": "markdown",
   "metadata": {},
   "source": [
    "#### Вывод"
   ]
  },
  {
   "cell_type": "markdown",
   "metadata": {},
   "source": [
    "Результаты по конверсии значимо не изменились. p-value стал чуть больше на 0,005, что говорит нам о том, что нулевую гипотезу отвергаем и статистически значимые различия есть. Конверсия группы В увеличилась: 17% против 16% на сырых."
   ]
  },
  {
   "cell_type": "markdown",
   "metadata": {},
   "source": [
    "### Расчет статистической значимости различий в среднем чеке заказа между группами по «очищенным» данным. "
   ]
  },
  {
   "cell_type": "markdown",
   "metadata": {},
   "source": [
    "Гипотезы:   \n",
    "H0:Статистически значимых различий между средними чеками групп А и В нет    \n",
    "H1:Статистически значимые различия между средними чеками групп А и В есть  "
   ]
  },
  {
   "cell_type": "code",
   "execution_count": 36,
   "metadata": {},
   "outputs": [
    {
     "name": "stdout",
     "output_type": "stream",
     "text": [
      "0.727\n",
      "-0.034\n"
     ]
    }
   ],
   "source": [
    "print(\n",
    "    '{0:.3f}'.format(\n",
    "        stats.mannwhitneyu(\n",
    "            orders[\n",
    "                np.logical_and(\n",
    "                    orders['group'] == 'A',\n",
    "                    np.logical_not(orders['visitorId'].isin(abnormalUsers)),\n",
    "                )\n",
    "            ]['revenue'],\n",
    "            orders[\n",
    "                np.logical_and(\n",
    "                    orders['group'] == 'B',\n",
    "                    np.logical_not(orders['visitorId'].isin(abnormalUsers)),\n",
    "                )\n",
    "            ]['revenue'],\n",
    "        )[1]\n",
    "    )\n",
    ")\n",
    "\n",
    "print(\n",
    "    \"{0:.3f}\".format(\n",
    "        orders[\n",
    "            np.logical_and(\n",
    "                orders['group'] == 'B',\n",
    "                np.logical_not(orders['visitorId'].isin(abnormalUsers)),\n",
    "            )\n",
    "        ]['revenue'].mean()\n",
    "        / orders[\n",
    "            np.logical_and(\n",
    "                orders['group'] == 'A',\n",
    "                np.logical_not(orders['visitorId'].isin(abnormalUsers)),\n",
    "            )\n",
    "        ]['revenue'].mean()\n",
    "        - 1\n",
    "    )\n",
    ")"
   ]
  },
  {
   "cell_type": "markdown",
   "metadata": {},
   "source": [
    "#### Вывод"
   ]
  },
  {
   "cell_type": "markdown",
   "metadata": {},
   "source": [
    "p-value уменьшился почти на 0.1, но по прежнему значительно выше 0,05. Разница между средним чеком с 29% в пользу B до 3% в пользу A. Это показывает, что статистически значимых различий по этой метрике между группами нет, а наблюдаемая на неочищенных данных разница, как мы и предполагали, была связана с выбросами."
   ]
  },
  {
   "cell_type": "markdown",
   "metadata": {},
   "source": [
    "### Общий вывод"
   ]
  },
  {
   "cell_type": "markdown",
   "metadata": {},
   "source": [
    "Есть статистически значимые различия по конверсии между группами (как по сырым так и по очищенным данным), при этом преимущество у группы B;   \n",
    "Нет статистически значимых различий по среднему чеку между группами (как по сырым так и по очищенным данным);   \n",
    "График различия конверсий между группами показывает, что результаты группы B лучше группы A в конце исследования, при этом есть тенденция к еще небольшому улучшению;   \n",
    "График различий кумулятивного среднего чека говорит нам о преимуществе группы B только из - за выброса, после чего метрика начинает снижаться к более естественному положению;    \n",
    "\n",
    "Исходя из обнаруженных фактов, тест следует остановить и признать его успешным в части улучшения конверсии в целевой группе B. В части среднего чека нельзя утверждать, что какая - либо из групп имеет преимущество над другой. Оснований полагать, что при продолжении теста разница между группами в конверсиях либо среднем чеке значимо изменятся нет, т.к. колебания в графиках носят затухающий характер."
   ]
  }
 ],
 "metadata": {
  "ExecuteTimeLog": [
   {
    "duration": 1347,
    "start_time": "2023-10-02T15:01:41.160Z"
   },
   {
    "duration": 70,
    "start_time": "2023-10-02T15:01:54.255Z"
   },
   {
    "duration": 9,
    "start_time": "2023-10-02T15:03:13.847Z"
   },
   {
    "duration": 158,
    "start_time": "2023-10-02T15:04:44.057Z"
   },
   {
    "duration": 10,
    "start_time": "2023-10-02T15:04:52.273Z"
   },
   {
    "duration": 14,
    "start_time": "2023-10-02T15:11:14.494Z"
   },
   {
    "duration": 12,
    "start_time": "2023-10-02T15:15:14.250Z"
   },
   {
    "duration": 9,
    "start_time": "2023-10-02T15:19:28.390Z"
   },
   {
    "duration": 22,
    "start_time": "2023-10-02T15:32:39.603Z"
   },
   {
    "duration": 13,
    "start_time": "2023-10-02T15:33:03.069Z"
   },
   {
    "duration": 14,
    "start_time": "2023-10-02T15:33:14.892Z"
   },
   {
    "duration": 46,
    "start_time": "2023-10-02T15:34:20.670Z"
   },
   {
    "duration": 22,
    "start_time": "2023-10-02T15:34:37.975Z"
   },
   {
    "duration": 21,
    "start_time": "2023-10-02T15:34:45.181Z"
   },
   {
    "duration": 22,
    "start_time": "2023-10-02T15:37:47.913Z"
   },
   {
    "duration": 3,
    "start_time": "2023-10-02T15:37:58.473Z"
   },
   {
    "duration": 100,
    "start_time": "2023-10-02T15:37:58.478Z"
   },
   {
    "duration": 8,
    "start_time": "2023-10-02T15:37:58.580Z"
   },
   {
    "duration": 22,
    "start_time": "2023-10-02T15:37:58.590Z"
   },
   {
    "duration": 38,
    "start_time": "2023-10-02T15:37:58.614Z"
   },
   {
    "duration": 43,
    "start_time": "2023-10-02T15:37:58.654Z"
   },
   {
    "duration": 16,
    "start_time": "2023-10-02T15:37:58.699Z"
   },
   {
    "duration": 17,
    "start_time": "2023-10-02T15:37:58.716Z"
   },
   {
    "duration": 60,
    "start_time": "2023-10-02T15:37:58.735Z"
   },
   {
    "duration": 7,
    "start_time": "2023-10-02T15:39:02.818Z"
   },
   {
    "duration": 6,
    "start_time": "2023-10-02T15:39:22.226Z"
   },
   {
    "duration": 10,
    "start_time": "2023-10-02T15:43:09.190Z"
   },
   {
    "duration": 6,
    "start_time": "2023-10-02T15:45:16.968Z"
   },
   {
    "duration": 10,
    "start_time": "2023-10-02T15:46:05.314Z"
   },
   {
    "duration": 6,
    "start_time": "2023-10-02T15:50:37.790Z"
   },
   {
    "duration": 175,
    "start_time": "2023-10-02T15:52:26.785Z"
   },
   {
    "duration": 209,
    "start_time": "2023-10-02T15:52:35.767Z"
   },
   {
    "duration": 135,
    "start_time": "2023-10-02T15:54:51.331Z"
   },
   {
    "duration": 11,
    "start_time": "2023-10-02T15:56:03.300Z"
   },
   {
    "duration": 341,
    "start_time": "2023-10-02T16:04:57.126Z"
   },
   {
    "duration": 193,
    "start_time": "2023-10-02T16:13:55.575Z"
   },
   {
    "duration": 331,
    "start_time": "2023-10-02T16:14:11.135Z"
   },
   {
    "duration": 229,
    "start_time": "2023-10-02T16:14:51.216Z"
   },
   {
    "duration": 230,
    "start_time": "2023-10-02T16:15:22.353Z"
   },
   {
    "duration": 226,
    "start_time": "2023-10-02T16:15:53.849Z"
   },
   {
    "duration": 370,
    "start_time": "2023-10-02T16:22:48.992Z"
   },
   {
    "duration": 199,
    "start_time": "2023-10-02T16:32:33.388Z"
   },
   {
    "duration": 262,
    "start_time": "2023-10-02T16:32:54.836Z"
   },
   {
    "duration": 226,
    "start_time": "2023-10-02T16:33:13.501Z"
   },
   {
    "duration": 1523,
    "start_time": "2023-10-03T10:16:47.174Z"
   },
   {
    "duration": 234,
    "start_time": "2023-10-03T10:16:48.700Z"
   },
   {
    "duration": 113,
    "start_time": "2023-10-03T10:16:48.936Z"
   },
   {
    "duration": 0,
    "start_time": "2023-10-03T10:16:49.051Z"
   },
   {
    "duration": 0,
    "start_time": "2023-10-03T10:16:49.052Z"
   },
   {
    "duration": 0,
    "start_time": "2023-10-03T10:16:49.053Z"
   },
   {
    "duration": 0,
    "start_time": "2023-10-03T10:16:49.053Z"
   },
   {
    "duration": 0,
    "start_time": "2023-10-03T10:16:49.054Z"
   },
   {
    "duration": 0,
    "start_time": "2023-10-03T10:16:49.054Z"
   },
   {
    "duration": 1,
    "start_time": "2023-10-03T10:16:49.054Z"
   },
   {
    "duration": 0,
    "start_time": "2023-10-03T10:16:49.055Z"
   },
   {
    "duration": 0,
    "start_time": "2023-10-03T10:16:49.057Z"
   },
   {
    "duration": 0,
    "start_time": "2023-10-03T10:16:49.058Z"
   },
   {
    "duration": 0,
    "start_time": "2023-10-03T10:16:49.059Z"
   },
   {
    "duration": 0,
    "start_time": "2023-10-03T10:16:49.060Z"
   },
   {
    "duration": 0,
    "start_time": "2023-10-03T10:16:49.062Z"
   },
   {
    "duration": 0,
    "start_time": "2023-10-03T10:16:49.063Z"
   },
   {
    "duration": 0,
    "start_time": "2023-10-03T10:16:49.064Z"
   },
   {
    "duration": 0,
    "start_time": "2023-10-03T10:16:49.065Z"
   },
   {
    "duration": 0,
    "start_time": "2023-10-03T10:16:49.066Z"
   },
   {
    "duration": 0,
    "start_time": "2023-10-03T10:16:49.067Z"
   },
   {
    "duration": 0,
    "start_time": "2023-10-03T10:16:49.069Z"
   },
   {
    "duration": 3,
    "start_time": "2023-10-03T10:18:15.181Z"
   },
   {
    "duration": 117,
    "start_time": "2023-10-03T10:18:15.186Z"
   },
   {
    "duration": 9,
    "start_time": "2023-10-03T10:18:15.304Z"
   },
   {
    "duration": 18,
    "start_time": "2023-10-03T10:18:15.314Z"
   },
   {
    "duration": 33,
    "start_time": "2023-10-03T10:18:15.334Z"
   },
   {
    "duration": 29,
    "start_time": "2023-10-03T10:18:15.369Z"
   },
   {
    "duration": 43,
    "start_time": "2023-10-03T10:18:15.400Z"
   },
   {
    "duration": 37,
    "start_time": "2023-10-03T10:18:15.444Z"
   },
   {
    "duration": 51,
    "start_time": "2023-10-03T10:18:15.483Z"
   },
   {
    "duration": 24,
    "start_time": "2023-10-03T10:18:15.535Z"
   },
   {
    "duration": 12,
    "start_time": "2023-10-03T10:18:15.560Z"
   },
   {
    "duration": 43,
    "start_time": "2023-10-03T10:18:15.574Z"
   },
   {
    "duration": 17,
    "start_time": "2023-10-03T10:18:15.619Z"
   },
   {
    "duration": 62,
    "start_time": "2023-10-03T10:18:15.638Z"
   },
   {
    "duration": 14,
    "start_time": "2023-10-03T10:18:15.701Z"
   },
   {
    "duration": 181,
    "start_time": "2023-10-03T10:18:15.716Z"
   },
   {
    "duration": 146,
    "start_time": "2023-10-03T10:18:15.898Z"
   },
   {
    "duration": 37,
    "start_time": "2023-10-03T10:18:16.046Z"
   },
   {
    "duration": 346,
    "start_time": "2023-10-03T10:18:16.085Z"
   },
   {
    "duration": 260,
    "start_time": "2023-10-03T10:18:16.433Z"
   },
   {
    "duration": 344,
    "start_time": "2023-10-03T10:18:16.695Z"
   },
   {
    "duration": 230,
    "start_time": "2023-10-03T10:18:17.040Z"
   },
   {
    "duration": 289,
    "start_time": "2023-10-03T10:27:17.498Z"
   },
   {
    "duration": 366,
    "start_time": "2023-10-03T10:27:37.523Z"
   },
   {
    "duration": 303,
    "start_time": "2023-10-03T10:27:44.994Z"
   },
   {
    "duration": 327,
    "start_time": "2023-10-03T10:27:58.098Z"
   },
   {
    "duration": 415,
    "start_time": "2023-10-03T10:28:34.596Z"
   },
   {
    "duration": 176,
    "start_time": "2023-10-03T10:29:26.236Z"
   },
   {
    "duration": 319,
    "start_time": "2023-10-03T10:29:41.075Z"
   },
   {
    "duration": 148,
    "start_time": "2023-10-03T10:35:03.346Z"
   },
   {
    "duration": 168,
    "start_time": "2023-10-03T10:35:55.673Z"
   },
   {
    "duration": 166,
    "start_time": "2023-10-03T10:36:41.868Z"
   },
   {
    "duration": 6,
    "start_time": "2023-10-03T10:39:23.613Z"
   },
   {
    "duration": 12,
    "start_time": "2023-10-03T10:42:58.594Z"
   },
   {
    "duration": 162,
    "start_time": "2023-10-03T10:45:04.275Z"
   },
   {
    "duration": 166,
    "start_time": "2023-10-03T10:45:24.284Z"
   },
   {
    "duration": 210,
    "start_time": "2023-10-03T10:45:32.309Z"
   },
   {
    "duration": 5,
    "start_time": "2023-10-03T10:51:23.669Z"
   },
   {
    "duration": 232,
    "start_time": "2023-10-03T10:56:52.025Z"
   },
   {
    "duration": 196,
    "start_time": "2023-10-03T10:59:42.289Z"
   },
   {
    "duration": 10,
    "start_time": "2023-10-03T11:19:21.402Z"
   },
   {
    "duration": 14,
    "start_time": "2023-10-03T11:19:34.796Z"
   },
   {
    "duration": 14,
    "start_time": "2023-10-03T11:24:46.533Z"
   },
   {
    "duration": 9,
    "start_time": "2023-10-03T11:28:02.188Z"
   },
   {
    "duration": 31,
    "start_time": "2023-10-03T11:28:10.497Z"
   },
   {
    "duration": 26,
    "start_time": "2023-10-03T11:28:14.929Z"
   },
   {
    "duration": 17,
    "start_time": "2023-10-03T11:44:16.681Z"
   },
   {
    "duration": 15,
    "start_time": "2023-10-03T11:44:22.984Z"
   },
   {
    "duration": 4,
    "start_time": "2023-10-03T11:54:33.995Z"
   },
   {
    "duration": 121,
    "start_time": "2023-10-03T11:54:34.001Z"
   },
   {
    "duration": 9,
    "start_time": "2023-10-03T11:54:34.124Z"
   },
   {
    "duration": 24,
    "start_time": "2023-10-03T11:54:34.135Z"
   },
   {
    "duration": 31,
    "start_time": "2023-10-03T11:54:34.160Z"
   },
   {
    "duration": 29,
    "start_time": "2023-10-03T11:54:34.193Z"
   },
   {
    "duration": 17,
    "start_time": "2023-10-03T11:54:34.224Z"
   },
   {
    "duration": 32,
    "start_time": "2023-10-03T11:54:34.243Z"
   },
   {
    "duration": 37,
    "start_time": "2023-10-03T11:54:34.278Z"
   },
   {
    "duration": 5,
    "start_time": "2023-10-03T11:54:34.317Z"
   },
   {
    "duration": 13,
    "start_time": "2023-10-03T11:54:34.324Z"
   },
   {
    "duration": 24,
    "start_time": "2023-10-03T11:54:34.339Z"
   },
   {
    "duration": 15,
    "start_time": "2023-10-03T11:54:34.365Z"
   },
   {
    "duration": 58,
    "start_time": "2023-10-03T11:54:34.382Z"
   },
   {
    "duration": 8,
    "start_time": "2023-10-03T11:54:34.442Z"
   },
   {
    "duration": 186,
    "start_time": "2023-10-03T11:54:34.452Z"
   },
   {
    "duration": 140,
    "start_time": "2023-10-03T11:54:34.639Z"
   },
   {
    "duration": 10,
    "start_time": "2023-10-03T11:54:34.781Z"
   },
   {
    "duration": 269,
    "start_time": "2023-10-03T11:54:34.793Z"
   },
   {
    "duration": 245,
    "start_time": "2023-10-03T11:54:35.064Z"
   },
   {
    "duration": 304,
    "start_time": "2023-10-03T11:54:35.311Z"
   },
   {
    "duration": 235,
    "start_time": "2023-10-03T11:54:35.617Z"
   },
   {
    "duration": 431,
    "start_time": "2023-10-03T11:54:35.856Z"
   },
   {
    "duration": 127,
    "start_time": "2023-10-03T11:54:36.290Z"
   },
   {
    "duration": 194,
    "start_time": "2023-10-03T11:54:36.419Z"
   },
   {
    "duration": 5,
    "start_time": "2023-10-03T11:54:36.615Z"
   },
   {
    "duration": 32,
    "start_time": "2023-10-03T11:54:36.622Z"
   },
   {
    "duration": 222,
    "start_time": "2023-10-03T11:54:36.657Z"
   },
   {
    "duration": 4,
    "start_time": "2023-10-03T11:54:36.881Z"
   },
   {
    "duration": 273,
    "start_time": "2023-10-03T11:54:36.887Z"
   },
   {
    "duration": 171,
    "start_time": "2023-10-03T11:54:37.162Z"
   },
   {
    "duration": 24,
    "start_time": "2023-10-03T11:54:37.335Z"
   },
   {
    "duration": 11,
    "start_time": "2023-10-03T11:54:37.360Z"
   },
   {
    "duration": 56,
    "start_time": "2023-10-03T11:54:37.373Z"
   },
   {
    "duration": 54,
    "start_time": "2023-10-03T11:54:37.431Z"
   },
   {
    "duration": 18,
    "start_time": "2023-10-03T11:54:37.487Z"
   },
   {
    "duration": 1239,
    "start_time": "2023-10-03T12:16:05.252Z"
   },
   {
    "duration": 212,
    "start_time": "2023-10-03T12:16:06.493Z"
   },
   {
    "duration": 8,
    "start_time": "2023-10-03T12:16:06.707Z"
   },
   {
    "duration": 82,
    "start_time": "2023-10-03T12:16:06.717Z"
   },
   {
    "duration": 31,
    "start_time": "2023-10-03T12:16:06.802Z"
   },
   {
    "duration": 48,
    "start_time": "2023-10-03T12:16:06.834Z"
   },
   {
    "duration": 30,
    "start_time": "2023-10-03T12:16:06.884Z"
   },
   {
    "duration": 15,
    "start_time": "2023-10-03T12:16:06.915Z"
   },
   {
    "duration": 236,
    "start_time": "2023-10-03T12:16:06.932Z"
   },
   {
    "duration": 28,
    "start_time": "2023-10-03T12:16:07.170Z"
   },
   {
    "duration": 10,
    "start_time": "2023-10-03T12:16:07.201Z"
   },
   {
    "duration": 28,
    "start_time": "2023-10-03T12:16:07.213Z"
   },
   {
    "duration": 79,
    "start_time": "2023-10-03T12:16:07.243Z"
   },
   {
    "duration": 43,
    "start_time": "2023-10-03T12:16:07.326Z"
   },
   {
    "duration": 34,
    "start_time": "2023-10-03T12:16:07.371Z"
   },
   {
    "duration": 195,
    "start_time": "2023-10-03T12:16:07.407Z"
   },
   {
    "duration": 139,
    "start_time": "2023-10-03T12:16:07.604Z"
   },
   {
    "duration": 10,
    "start_time": "2023-10-03T12:16:07.745Z"
   },
   {
    "duration": 367,
    "start_time": "2023-10-03T12:16:07.756Z"
   },
   {
    "duration": 265,
    "start_time": "2023-10-03T12:16:08.124Z"
   },
   {
    "duration": 339,
    "start_time": "2023-10-03T12:16:08.391Z"
   },
   {
    "duration": 242,
    "start_time": "2023-10-03T12:16:08.732Z"
   },
   {
    "duration": 354,
    "start_time": "2023-10-03T12:16:08.976Z"
   },
   {
    "duration": 149,
    "start_time": "2023-10-03T12:16:09.332Z"
   },
   {
    "duration": 195,
    "start_time": "2023-10-03T12:16:09.482Z"
   },
   {
    "duration": 5,
    "start_time": "2023-10-03T12:16:09.679Z"
   },
   {
    "duration": 102,
    "start_time": "2023-10-03T12:16:09.686Z"
   },
   {
    "duration": 235,
    "start_time": "2023-10-03T12:16:09.790Z"
   },
   {
    "duration": 5,
    "start_time": "2023-10-03T12:16:10.027Z"
   },
   {
    "duration": 284,
    "start_time": "2023-10-03T12:16:10.034Z"
   },
   {
    "duration": 155,
    "start_time": "2023-10-03T12:16:10.320Z"
   },
   {
    "duration": 11,
    "start_time": "2023-10-03T12:16:10.477Z"
   },
   {
    "duration": 11,
    "start_time": "2023-10-03T12:16:10.501Z"
   },
   {
    "duration": 35,
    "start_time": "2023-10-03T12:16:10.514Z"
   },
   {
    "duration": 94,
    "start_time": "2023-10-03T12:16:10.551Z"
   },
   {
    "duration": 15,
    "start_time": "2023-10-03T12:16:10.647Z"
   },
   {
    "duration": 125,
    "start_time": "2023-10-03T17:28:17.613Z"
   },
   {
    "duration": 1659,
    "start_time": "2023-10-04T06:32:14.674Z"
   },
   {
    "duration": 323,
    "start_time": "2023-10-04T06:32:16.336Z"
   },
   {
    "duration": 18,
    "start_time": "2023-10-04T06:32:16.665Z"
   },
   {
    "duration": 29,
    "start_time": "2023-10-04T06:32:16.688Z"
   },
   {
    "duration": 28,
    "start_time": "2023-10-04T06:32:16.721Z"
   },
   {
    "duration": 66,
    "start_time": "2023-10-04T06:32:16.751Z"
   },
   {
    "duration": 22,
    "start_time": "2023-10-04T06:32:16.820Z"
   },
   {
    "duration": 48,
    "start_time": "2023-10-04T06:32:16.844Z"
   },
   {
    "duration": 32,
    "start_time": "2023-10-04T06:32:16.895Z"
   },
   {
    "duration": 10,
    "start_time": "2023-10-04T06:32:16.929Z"
   },
   {
    "duration": 48,
    "start_time": "2023-10-04T06:32:16.941Z"
   },
   {
    "duration": 30,
    "start_time": "2023-10-04T06:32:16.992Z"
   },
   {
    "duration": 17,
    "start_time": "2023-10-04T06:32:17.025Z"
   },
   {
    "duration": 50,
    "start_time": "2023-10-04T06:32:17.046Z"
   },
   {
    "duration": 28,
    "start_time": "2023-10-04T06:32:17.099Z"
   },
   {
    "duration": 276,
    "start_time": "2023-10-04T06:32:17.129Z"
   },
   {
    "duration": 219,
    "start_time": "2023-10-04T06:32:17.407Z"
   },
   {
    "duration": 20,
    "start_time": "2023-10-04T06:32:17.629Z"
   },
   {
    "duration": 513,
    "start_time": "2023-10-04T06:32:17.654Z"
   },
   {
    "duration": 352,
    "start_time": "2023-10-04T06:32:18.176Z"
   },
   {
    "duration": 458,
    "start_time": "2023-10-04T06:32:18.530Z"
   },
   {
    "duration": 327,
    "start_time": "2023-10-04T06:32:18.991Z"
   },
   {
    "duration": 409,
    "start_time": "2023-10-04T06:32:19.320Z"
   },
   {
    "duration": 196,
    "start_time": "2023-10-04T06:32:19.731Z"
   },
   {
    "duration": 276,
    "start_time": "2023-10-04T06:32:19.929Z"
   },
   {
    "duration": 6,
    "start_time": "2023-10-04T06:32:20.207Z"
   },
   {
    "duration": 73,
    "start_time": "2023-10-04T06:32:20.215Z"
   },
   {
    "duration": 315,
    "start_time": "2023-10-04T06:32:20.295Z"
   },
   {
    "duration": 8,
    "start_time": "2023-10-04T06:32:20.612Z"
   },
   {
    "duration": 341,
    "start_time": "2023-10-04T06:32:20.623Z"
   },
   {
    "duration": 210,
    "start_time": "2023-10-04T06:32:20.966Z"
   },
   {
    "duration": 18,
    "start_time": "2023-10-04T06:32:21.179Z"
   },
   {
    "duration": 23,
    "start_time": "2023-10-04T06:32:21.199Z"
   },
   {
    "duration": 73,
    "start_time": "2023-10-04T06:32:21.225Z"
   },
   {
    "duration": 101,
    "start_time": "2023-10-04T06:32:21.301Z"
   },
   {
    "duration": 25,
    "start_time": "2023-10-04T06:32:21.405Z"
   },
   {
    "duration": 1444,
    "start_time": "2023-10-04T06:33:23.222Z"
   },
   {
    "duration": 112,
    "start_time": "2023-10-04T06:33:24.668Z"
   },
   {
    "duration": 17,
    "start_time": "2023-10-04T06:33:24.783Z"
   },
   {
    "duration": 22,
    "start_time": "2023-10-04T06:33:24.804Z"
   },
   {
    "duration": 34,
    "start_time": "2023-10-04T06:33:24.828Z"
   },
   {
    "duration": 47,
    "start_time": "2023-10-04T06:33:24.869Z"
   },
   {
    "duration": 22,
    "start_time": "2023-10-04T06:33:24.919Z"
   },
   {
    "duration": 54,
    "start_time": "2023-10-04T06:33:24.943Z"
   },
   {
    "duration": 27,
    "start_time": "2023-10-04T06:33:25.000Z"
   },
   {
    "duration": 10,
    "start_time": "2023-10-04T06:33:25.031Z"
   },
   {
    "duration": 43,
    "start_time": "2023-10-04T06:33:25.045Z"
   },
   {
    "duration": 25,
    "start_time": "2023-10-04T06:33:25.092Z"
   },
   {
    "duration": 7,
    "start_time": "2023-10-04T06:33:25.119Z"
   },
   {
    "duration": 64,
    "start_time": "2023-10-04T06:33:25.128Z"
   },
   {
    "duration": 18,
    "start_time": "2023-10-04T06:33:25.194Z"
   },
   {
    "duration": 310,
    "start_time": "2023-10-04T06:33:25.216Z"
   },
   {
    "duration": 184,
    "start_time": "2023-10-04T06:33:25.528Z"
   },
   {
    "duration": 16,
    "start_time": "2023-10-04T06:33:25.714Z"
   },
   {
    "duration": 501,
    "start_time": "2023-10-04T06:33:25.733Z"
   },
   {
    "duration": 319,
    "start_time": "2023-10-04T06:33:26.236Z"
   },
   {
    "duration": 377,
    "start_time": "2023-10-04T06:33:26.558Z"
   },
   {
    "duration": 295,
    "start_time": "2023-10-04T06:33:26.937Z"
   },
   {
    "duration": 393,
    "start_time": "2023-10-04T06:33:27.234Z"
   },
   {
    "duration": 238,
    "start_time": "2023-10-04T06:33:27.629Z"
   },
   {
    "duration": 238,
    "start_time": "2023-10-04T06:33:27.869Z"
   },
   {
    "duration": 8,
    "start_time": "2023-10-04T06:33:28.110Z"
   },
   {
    "duration": 45,
    "start_time": "2023-10-04T06:33:28.120Z"
   },
   {
    "duration": 238,
    "start_time": "2023-10-04T06:33:28.172Z"
   },
   {
    "duration": 5,
    "start_time": "2023-10-04T06:33:28.413Z"
   },
   {
    "duration": 315,
    "start_time": "2023-10-04T06:33:28.420Z"
   },
   {
    "duration": 235,
    "start_time": "2023-10-04T06:33:28.737Z"
   },
   {
    "duration": 16,
    "start_time": "2023-10-04T06:33:28.979Z"
   },
   {
    "duration": 28,
    "start_time": "2023-10-04T06:33:28.997Z"
   },
   {
    "duration": 10,
    "start_time": "2023-10-04T06:33:29.027Z"
   },
   {
    "duration": 58,
    "start_time": "2023-10-04T06:33:29.039Z"
   },
   {
    "duration": 23,
    "start_time": "2023-10-04T06:33:29.099Z"
   },
   {
    "duration": 1236,
    "start_time": "2024-03-08T18:38:05.742Z"
   },
   {
    "duration": 197,
    "start_time": "2024-03-08T18:38:06.980Z"
   },
   {
    "duration": 9,
    "start_time": "2024-03-08T18:38:07.178Z"
   },
   {
    "duration": 14,
    "start_time": "2024-03-08T18:38:07.189Z"
   },
   {
    "duration": 16,
    "start_time": "2024-03-08T18:38:07.206Z"
   },
   {
    "duration": 17,
    "start_time": "2024-03-08T18:38:07.224Z"
   },
   {
    "duration": 16,
    "start_time": "2024-03-08T18:38:07.242Z"
   },
   {
    "duration": 14,
    "start_time": "2024-03-08T18:38:07.259Z"
   },
   {
    "duration": 57,
    "start_time": "2024-03-08T18:38:07.275Z"
   },
   {
    "duration": 6,
    "start_time": "2024-03-08T18:38:07.334Z"
   },
   {
    "duration": 5,
    "start_time": "2024-03-08T18:38:07.342Z"
   },
   {
    "duration": 9,
    "start_time": "2024-03-08T18:38:07.349Z"
   },
   {
    "duration": 9,
    "start_time": "2024-03-08T18:38:07.359Z"
   },
   {
    "duration": 15,
    "start_time": "2024-03-08T18:38:07.369Z"
   },
   {
    "duration": 37,
    "start_time": "2024-03-08T18:38:07.386Z"
   },
   {
    "duration": 188,
    "start_time": "2024-03-08T18:38:07.425Z"
   },
   {
    "duration": 123,
    "start_time": "2024-03-08T18:38:07.615Z"
   },
   {
    "duration": 9,
    "start_time": "2024-03-08T18:38:07.740Z"
   },
   {
    "duration": 336,
    "start_time": "2024-03-08T18:38:07.751Z"
   },
   {
    "duration": 261,
    "start_time": "2024-03-08T18:38:08.089Z"
   },
   {
    "duration": 303,
    "start_time": "2024-03-08T18:38:08.352Z"
   },
   {
    "duration": 232,
    "start_time": "2024-03-08T18:38:08.656Z"
   },
   {
    "duration": 353,
    "start_time": "2024-03-08T18:38:08.890Z"
   },
   {
    "duration": 135,
    "start_time": "2024-03-08T18:38:09.245Z"
   },
   {
    "duration": 196,
    "start_time": "2024-03-08T18:38:09.382Z"
   },
   {
    "duration": 4,
    "start_time": "2024-03-08T18:38:09.579Z"
   },
   {
    "duration": 12,
    "start_time": "2024-03-08T18:38:09.585Z"
   },
   {
    "duration": 206,
    "start_time": "2024-03-08T18:38:09.601Z"
   },
   {
    "duration": 14,
    "start_time": "2024-03-08T18:38:09.809Z"
   },
   {
    "duration": 252,
    "start_time": "2024-03-08T18:38:09.825Z"
   },
   {
    "duration": 171,
    "start_time": "2024-03-08T18:38:10.079Z"
   },
   {
    "duration": 11,
    "start_time": "2024-03-08T18:38:10.251Z"
   },
   {
    "duration": 9,
    "start_time": "2024-03-08T18:38:10.264Z"
   },
   {
    "duration": 13,
    "start_time": "2024-03-08T18:38:10.275Z"
   },
   {
    "duration": 49,
    "start_time": "2024-03-08T18:38:10.290Z"
   },
   {
    "duration": 15,
    "start_time": "2024-03-08T18:38:10.341Z"
   }
  ],
  "kernelspec": {
   "display_name": "Python 3 (ipykernel)",
   "language": "python",
   "name": "python3"
  },
  "language_info": {
   "codemirror_mode": {
    "name": "ipython",
    "version": 3
   },
   "file_extension": ".py",
   "mimetype": "text/x-python",
   "name": "python",
   "nbconvert_exporter": "python",
   "pygments_lexer": "ipython3",
   "version": "3.9.5"
  },
  "toc": {
   "base_numbering": 1,
   "nav_menu": {},
   "number_sections": true,
   "sideBar": true,
   "skip_h1_title": true,
   "title_cell": "Table of Contents",
   "title_sidebar": "Contents",
   "toc_cell": false,
   "toc_position": {
    "height": "calc(100% - 180px)",
    "left": "10px",
    "top": "150px",
    "width": "256px"
   },
   "toc_section_display": true,
   "toc_window_display": true
  }
 },
 "nbformat": 4,
 "nbformat_minor": 2
}
